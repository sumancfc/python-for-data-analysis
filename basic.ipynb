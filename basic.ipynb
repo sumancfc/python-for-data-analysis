{
 "cells": [
  {
   "cell_type": "code",
   "execution_count": 9,
   "id": "bd71dd7c-71ea-4c95-a582-b698209a85fd",
   "metadata": {},
   "outputs": [],
   "source": [
    "a = [1, 2, 3]"
   ]
  },
  {
   "cell_type": "code",
   "execution_count": 10,
   "id": "86ed4eb8-42ba-4f4c-8a86-54c66c4ef703",
   "metadata": {},
   "outputs": [],
   "source": [
    "b = a"
   ]
  },
  {
   "cell_type": "code",
   "execution_count": 11,
   "id": "cf76f252-aa98-47d8-a2cc-8cd3a567b631",
   "metadata": {},
   "outputs": [
    {
     "data": {
      "text/plain": [
       "[1, 2, 3]"
      ]
     },
     "execution_count": 11,
     "metadata": {},
     "output_type": "execute_result"
    }
   ],
   "source": [
    "b"
   ]
  },
  {
   "cell_type": "code",
   "execution_count": 12,
   "id": "3d223ef2-7c47-4eb2-9bde-7963de4558ca",
   "metadata": {},
   "outputs": [],
   "source": [
    "a.append(4)"
   ]
  },
  {
   "cell_type": "code",
   "execution_count": 13,
   "id": "c5a443b7-89ef-41fa-b479-d5d05b815b77",
   "metadata": {},
   "outputs": [
    {
     "data": {
      "text/plain": [
       "[1, 2, 3, 4]"
      ]
     },
     "execution_count": 13,
     "metadata": {},
     "output_type": "execute_result"
    }
   ],
   "source": [
    "b"
   ]
  },
  {
   "cell_type": "code",
   "execution_count": 15,
   "id": "311604c2-b6ea-49ba-86b9-6b0b770f6722",
   "metadata": {},
   "outputs": [],
   "source": [
    "def append_element(some_list, element):\n",
    "    some_list.append(element)"
   ]
  },
  {
   "cell_type": "code",
   "execution_count": null,
   "id": "f4616dd3-5df3-4793-a796-8919b99a2acd",
   "metadata": {},
   "outputs": [],
   "source": []
  },
  {
   "cell_type": "code",
   "execution_count": 16,
   "id": "7f94903f-7482-4f41-98ee-b8c33e1102f7",
   "metadata": {},
   "outputs": [],
   "source": [
    "data = [1,2,3]"
   ]
  },
  {
   "cell_type": "code",
   "execution_count": 17,
   "id": "cc3630bd-b32e-4040-a0ba-1d0db1a848a7",
   "metadata": {},
   "outputs": [],
   "source": [
    "append_element(data,4)"
   ]
  },
  {
   "cell_type": "code",
   "execution_count": 18,
   "id": "9f3ffd1b-e820-4066-9e73-9fecc3becb49",
   "metadata": {},
   "outputs": [
    {
     "data": {
      "text/plain": [
       "[1, 2, 3, 4]"
      ]
     },
     "execution_count": 18,
     "metadata": {},
     "output_type": "execute_result"
    }
   ],
   "source": [
    "data"
   ]
  },
  {
   "cell_type": "code",
   "execution_count": 19,
   "id": "3e1cfbbd-067a-4ac6-b044-4f190beac2f5",
   "metadata": {},
   "outputs": [],
   "source": [
    "a = 'foo'"
   ]
  },
  {
   "cell_type": "code",
   "execution_count": 20,
   "id": "45af2e86-2f8f-4182-9e13-d6a3df5237b8",
   "metadata": {},
   "outputs": [
    {
     "data": {
      "text/plain": [
       "<function str.split(sep=None, maxsplit=-1)>"
      ]
     },
     "execution_count": 20,
     "metadata": {},
     "output_type": "execute_result"
    }
   ],
   "source": [
    "getattr(a, \"split\")"
   ]
  },
  {
   "cell_type": "code",
   "execution_count": 22,
   "id": "9b9293d7-6918-4c5a-a849-fb1c87a0be04",
   "metadata": {},
   "outputs": [],
   "source": [
    "def isiterrable(obj):\n",
    "    try:\n",
    "        iter(obj)\n",
    "        return True\n",
    "    except TypeError: # not iterable\n",
    "        return False"
   ]
  },
  {
   "cell_type": "code",
   "execution_count": 24,
   "id": "337767ed-7d11-4126-993f-b16d756c1461",
   "metadata": {},
   "outputs": [
    {
     "data": {
      "text/plain": [
       "True"
      ]
     },
     "execution_count": 24,
     "metadata": {},
     "output_type": "execute_result"
    }
   ],
   "source": [
    "isiterrable(\"a string\")"
   ]
  },
  {
   "cell_type": "code",
   "execution_count": 25,
   "id": "f8827e95-6d39-4d4f-8054-6d7657416e33",
   "metadata": {},
   "outputs": [
    {
     "data": {
      "text/plain": [
       "False"
      ]
     },
     "execution_count": 25,
     "metadata": {},
     "output_type": "execute_result"
    }
   ],
   "source": [
    "isiterrable(1)"
   ]
  },
  {
   "cell_type": "code",
   "execution_count": 26,
   "id": "3a03b361-c910-4568-bd15-6a36e1ae7a21",
   "metadata": {},
   "outputs": [],
   "source": [
    "ival = 17239871"
   ]
  },
  {
   "cell_type": "code",
   "execution_count": 27,
   "id": "78f3020a-8ac8-45b9-a30a-43a3a167ca44",
   "metadata": {},
   "outputs": [
    {
     "data": {
      "text/plain": [
       "103439226"
      ]
     },
     "execution_count": 27,
     "metadata": {},
     "output_type": "execute_result"
    }
   ],
   "source": [
    "ival * 6"
   ]
  },
  {
   "cell_type": "code",
   "execution_count": 28,
   "id": "cdff025a-afee-4abb-ba25-46a5af378917",
   "metadata": {},
   "outputs": [
    {
     "data": {
      "text/plain": [
       "26254519291092456596965462913230729701102721"
      ]
     },
     "execution_count": 28,
     "metadata": {},
     "output_type": "execute_result"
    }
   ],
   "source": [
    "ival ** 6"
   ]
  },
  {
   "cell_type": "code",
   "execution_count": 29,
   "id": "6af979e4-c55a-470f-a95f-7002a47db2ee",
   "metadata": {},
   "outputs": [],
   "source": [
    "fval = 7.243"
   ]
  },
  {
   "cell_type": "code",
   "execution_count": 30,
   "id": "78695ee5-af0f-4ae4-ad97-80f7c56f515a",
   "metadata": {},
   "outputs": [],
   "source": [
    "fval2 = 6.78e-5"
   ]
  },
  {
   "cell_type": "code",
   "execution_count": 31,
   "id": "5183b4f3-7859-49df-b235-6b019ed3816c",
   "metadata": {},
   "outputs": [
    {
     "data": {
      "text/plain": [
       "1.5"
      ]
     },
     "execution_count": 31,
     "metadata": {},
     "output_type": "execute_result"
    }
   ],
   "source": [
    "3 / 2"
   ]
  },
  {
   "cell_type": "code",
   "execution_count": 32,
   "id": "6e13d127-8a23-4263-977f-e2842c2f2969",
   "metadata": {},
   "outputs": [
    {
     "data": {
      "text/plain": [
       "1"
      ]
     },
     "execution_count": 32,
     "metadata": {},
     "output_type": "execute_result"
    }
   ],
   "source": [
    "3 // 2"
   ]
  },
  {
   "cell_type": "code",
   "execution_count": 33,
   "id": "288c48e1-0955-46df-8a52-c6a8453c836d",
   "metadata": {},
   "outputs": [],
   "source": [
    "a = \"one way of writing a string\""
   ]
  },
  {
   "cell_type": "code",
   "execution_count": 34,
   "id": "7c401a04-ab17-4896-899f-15ca8d7eb2ea",
   "metadata": {},
   "outputs": [],
   "source": [
    "b = 'another way'"
   ]
  },
  {
   "cell_type": "code",
   "execution_count": 35,
   "id": "d37c8e6e-6334-45ff-a5fa-9d3433a83a22",
   "metadata": {},
   "outputs": [],
   "source": [
    "c = \"\"\"\n",
    "This is a longer string that\n",
    "spans multiple lines\n",
    "\"\"\""
   ]
  },
  {
   "cell_type": "code",
   "execution_count": 36,
   "id": "e239477a-d482-46aa-a4db-752a1e20748d",
   "metadata": {},
   "outputs": [
    {
     "ename": "TypeError",
     "evalue": "count() takes at least 1 argument (0 given)",
     "output_type": "error",
     "traceback": [
      "\u001b[1;31m---------------------------------------------------------------------------\u001b[0m",
      "\u001b[1;31mTypeError\u001b[0m                                 Traceback (most recent call last)",
      "Cell \u001b[1;32mIn[36], line 1\u001b[0m\n\u001b[1;32m----> 1\u001b[0m \u001b[43mc\u001b[49m\u001b[38;5;241;43m.\u001b[39;49m\u001b[43mcount\u001b[49m\u001b[43m(\u001b[49m\u001b[43m)\u001b[49m\n",
      "\u001b[1;31mTypeError\u001b[0m: count() takes at least 1 argument (0 given)"
     ]
    }
   ],
   "source": [
    "c.count()"
   ]
  },
  {
   "cell_type": "code",
   "execution_count": 37,
   "id": "63c573e8-6421-4a8f-a7c9-fb2f2954ddb3",
   "metadata": {},
   "outputs": [
    {
     "data": {
      "text/plain": [
       "3"
      ]
     },
     "execution_count": 37,
     "metadata": {},
     "output_type": "execute_result"
    }
   ],
   "source": [
    "c.count(\"\\n\")"
   ]
  },
  {
   "cell_type": "code",
   "execution_count": 38,
   "id": "fa41267b-25ff-4d08-9cbb-0757d81b9fc6",
   "metadata": {},
   "outputs": [],
   "source": [
    "a = \"this is a string\""
   ]
  },
  {
   "cell_type": "code",
   "execution_count": 39,
   "id": "30edfcaf-deb0-443a-bef5-41e19a229855",
   "metadata": {},
   "outputs": [
    {
     "ename": "TypeError",
     "evalue": "'str' object does not support item assignment",
     "output_type": "error",
     "traceback": [
      "\u001b[1;31m---------------------------------------------------------------------------\u001b[0m",
      "\u001b[1;31mTypeError\u001b[0m                                 Traceback (most recent call last)",
      "Cell \u001b[1;32mIn[39], line 1\u001b[0m\n\u001b[1;32m----> 1\u001b[0m \u001b[43ma\u001b[49m\u001b[43m[\u001b[49m\u001b[38;5;241;43m10\u001b[39;49m\u001b[43m]\u001b[49m \u001b[38;5;241m=\u001b[39m \u001b[38;5;124m\"\u001b[39m\u001b[38;5;124mf\u001b[39m\u001b[38;5;124m\"\u001b[39m\n",
      "\u001b[1;31mTypeError\u001b[0m: 'str' object does not support item assignment"
     ]
    }
   ],
   "source": [
    "a[10] = \"f\""
   ]
  },
  {
   "cell_type": "code",
   "execution_count": 40,
   "id": "a15c35c3-89f8-4fa3-bee6-965516e0f33e",
   "metadata": {},
   "outputs": [],
   "source": [
    "b = a.replace(\"string\", \"longer string\")"
   ]
  },
  {
   "cell_type": "code",
   "execution_count": 41,
   "id": "4188b4b0-3ccc-4f24-8eac-b640932649ed",
   "metadata": {},
   "outputs": [
    {
     "data": {
      "text/plain": [
       "'this is a longer string'"
      ]
     },
     "execution_count": 41,
     "metadata": {},
     "output_type": "execute_result"
    }
   ],
   "source": [
    "b"
   ]
  },
  {
   "cell_type": "code",
   "execution_count": 42,
   "id": "87861e99-9807-4266-8c31-5faad055229f",
   "metadata": {},
   "outputs": [
    {
     "data": {
      "text/plain": [
       "'this is a string'"
      ]
     },
     "execution_count": 42,
     "metadata": {},
     "output_type": "execute_result"
    }
   ],
   "source": [
    "a"
   ]
  },
  {
   "cell_type": "code",
   "execution_count": 43,
   "id": "3847c4f1-0cf5-488d-bb2d-8c8f29e47335",
   "metadata": {},
   "outputs": [],
   "source": [
    "a = 5.6"
   ]
  },
  {
   "cell_type": "code",
   "execution_count": 44,
   "id": "e2ea301e-79e7-4c03-80a2-c9374f5dd8da",
   "metadata": {},
   "outputs": [],
   "source": [
    "s = str(a)"
   ]
  },
  {
   "cell_type": "code",
   "execution_count": 45,
   "id": "ebf1408e-02a6-4d9e-8225-a87b9df4fdde",
   "metadata": {},
   "outputs": [
    {
     "name": "stdout",
     "output_type": "stream",
     "text": [
      "5.6\n"
     ]
    }
   ],
   "source": [
    "print(s)"
   ]
  },
  {
   "cell_type": "code",
   "execution_count": 46,
   "id": "d4dec6fb-cc26-418d-a22b-ebd0446675c1",
   "metadata": {},
   "outputs": [],
   "source": [
    "s = \"data\""
   ]
  },
  {
   "cell_type": "code",
   "execution_count": 47,
   "id": "81d929b5-7b54-4b19-ba0b-195393f467f5",
   "metadata": {},
   "outputs": [
    {
     "data": {
      "text/plain": [
       "['d', 'a', 't', 'a']"
      ]
     },
     "execution_count": 47,
     "metadata": {},
     "output_type": "execute_result"
    }
   ],
   "source": [
    "list(s)"
   ]
  },
  {
   "cell_type": "code",
   "execution_count": 48,
   "id": "6adf847a-325d-472a-a65e-3f9400c74cd0",
   "metadata": {},
   "outputs": [
    {
     "data": {
      "text/plain": [
       "'d'"
      ]
     },
     "execution_count": 48,
     "metadata": {},
     "output_type": "execute_result"
    }
   ],
   "source": [
    "s[:1]"
   ]
  },
  {
   "cell_type": "code",
   "execution_count": 49,
   "id": "4a8471cb-488f-4df2-ae21-935c628bb22d",
   "metadata": {},
   "outputs": [
    {
     "data": {
      "text/plain": [
       "'dat'"
      ]
     },
     "execution_count": 49,
     "metadata": {},
     "output_type": "execute_result"
    }
   ],
   "source": [
    "s[:3]"
   ]
  },
  {
   "cell_type": "code",
   "execution_count": 50,
   "id": "aaf2dec3-96d0-4820-a9bf-242e4a17248c",
   "metadata": {},
   "outputs": [
    {
     "data": {
      "text/plain": [
       "'at'"
      ]
     },
     "execution_count": 50,
     "metadata": {},
     "output_type": "execute_result"
    }
   ],
   "source": [
    "s[1:3]"
   ]
  },
  {
   "cell_type": "code",
   "execution_count": 51,
   "id": "869e9e36-8337-43cd-84e2-c923c2d0314a",
   "metadata": {},
   "outputs": [],
   "source": [
    "s = \"12\\\\34\""
   ]
  },
  {
   "cell_type": "code",
   "execution_count": 52,
   "id": "6c42371e-8aab-4c03-94f9-a20e3267b84c",
   "metadata": {},
   "outputs": [
    {
     "name": "stdout",
     "output_type": "stream",
     "text": [
      "12\\34\n"
     ]
    }
   ],
   "source": [
    "print(s)"
   ]
  },
  {
   "cell_type": "code",
   "execution_count": 53,
   "id": "42f6d084-dfdc-4341-ae8b-bdda246d5bcb",
   "metadata": {},
   "outputs": [],
   "source": [
    "a = \"this is a first half \""
   ]
  },
  {
   "cell_type": "code",
   "execution_count": 54,
   "id": "0b554738-f370-4b3d-b398-2cdaaa0ede20",
   "metadata": {},
   "outputs": [],
   "source": [
    "b = \"and this is a second hald\""
   ]
  },
  {
   "cell_type": "code",
   "execution_count": 55,
   "id": "97d07620-d495-4803-b1ee-a03053499c68",
   "metadata": {},
   "outputs": [
    {
     "data": {
      "text/plain": [
       "'this is a first half and this is a second hald'"
      ]
     },
     "execution_count": 55,
     "metadata": {},
     "output_type": "execute_result"
    }
   ],
   "source": [
    "a + b"
   ]
  },
  {
   "cell_type": "code",
   "execution_count": 56,
   "id": "2629e3f7-c3b1-477d-b292-61e22d4bb48e",
   "metadata": {},
   "outputs": [],
   "source": [
    "template = \"{0:.2f} {1:s} are worth US${2:d}\""
   ]
  },
  {
   "cell_type": "code",
   "execution_count": 57,
   "id": "dcb5ea05-74e0-4440-9b37-ebc494822e1f",
   "metadata": {},
   "outputs": [
    {
     "data": {
      "text/plain": [
       "'88.47 Argentine Pesos are worth US$1'"
      ]
     },
     "execution_count": 57,
     "metadata": {},
     "output_type": "execute_result"
    }
   ],
   "source": [
    "template.format(88.466, \"Argentine Pesos\", 1)"
   ]
  },
  {
   "cell_type": "code",
   "execution_count": 58,
   "id": "22e17ae3-1ab9-4bb4-9791-3ca37bbd9930",
   "metadata": {},
   "outputs": [],
   "source": [
    "from datetime import datetime, date, time"
   ]
  },
  {
   "cell_type": "code",
   "execution_count": 60,
   "id": "d6ee8b04-f10a-4e3f-be48-fcd6409e48a5",
   "metadata": {},
   "outputs": [],
   "source": [
    "dt = datetime(2023, 9, 19, 10, 49, 5)"
   ]
  },
  {
   "cell_type": "code",
   "execution_count": 61,
   "id": "f9eab0b1-f580-4b6c-aa99-ddc10198c34a",
   "metadata": {},
   "outputs": [
    {
     "data": {
      "text/plain": [
       "19"
      ]
     },
     "execution_count": 61,
     "metadata": {},
     "output_type": "execute_result"
    }
   ],
   "source": [
    "dt.day"
   ]
  },
  {
   "cell_type": "code",
   "execution_count": 62,
   "id": "72138522-1859-4643-94d7-70dd74dee035",
   "metadata": {},
   "outputs": [
    {
     "data": {
      "text/plain": [
       "49"
      ]
     },
     "execution_count": 62,
     "metadata": {},
     "output_type": "execute_result"
    }
   ],
   "source": [
    "dt.minute"
   ]
  },
  {
   "cell_type": "code",
   "execution_count": 63,
   "id": "431dd22c-83b9-4270-9d7d-46db86bd9602",
   "metadata": {},
   "outputs": [
    {
     "data": {
      "text/plain": [
       "datetime.date(2023, 9, 19)"
      ]
     },
     "execution_count": 63,
     "metadata": {},
     "output_type": "execute_result"
    }
   ],
   "source": [
    "dt.date()"
   ]
  },
  {
   "cell_type": "code",
   "execution_count": 64,
   "id": "3df61023-6c5c-4779-a84e-d96f7ceb31a3",
   "metadata": {},
   "outputs": [
    {
     "data": {
      "text/plain": [
       "datetime.time(10, 49, 5)"
      ]
     },
     "execution_count": 64,
     "metadata": {},
     "output_type": "execute_result"
    }
   ],
   "source": [
    "dt.time()"
   ]
  },
  {
   "cell_type": "code",
   "execution_count": 65,
   "id": "dd999cd6-efe7-415d-acc7-4c5c4be08fa4",
   "metadata": {},
   "outputs": [
    {
     "data": {
      "text/plain": [
       "'2023-09-19 10:49'"
      ]
     },
     "execution_count": 65,
     "metadata": {},
     "output_type": "execute_result"
    }
   ],
   "source": [
    "dt.strftime(\"%Y-%m-%d %H:%M\")"
   ]
  },
  {
   "cell_type": "code",
   "execution_count": 66,
   "id": "838f7c37-d4f7-4273-8343-b65f1ef993dd",
   "metadata": {},
   "outputs": [
    {
     "data": {
      "text/plain": [
       "datetime.datetime(2009, 10, 31, 0, 0)"
      ]
     },
     "execution_count": 66,
     "metadata": {},
     "output_type": "execute_result"
    }
   ],
   "source": [
    "datetime.strptime(\"20091031\", \"%Y%m%d\")"
   ]
  },
  {
   "cell_type": "code",
   "execution_count": 67,
   "id": "f4a3ee3e-e756-4442-b6f3-13eb087d5709",
   "metadata": {},
   "outputs": [
    {
     "name": "stdout",
     "output_type": "stream",
     "text": [
      "(0, 0)\n",
      "(1, 0)\n",
      "(1, 1)\n",
      "(2, 0)\n",
      "(2, 1)\n",
      "(2, 2)\n",
      "(3, 0)\n",
      "(3, 1)\n",
      "(3, 2)\n",
      "(3, 3)\n"
     ]
    }
   ],
   "source": [
    "for i in range(4):\n",
    "   .....:     for j in range(4):\n",
    "   .....:         if j > i:\n",
    "   .....:             break\n",
    "   .....:         print((i, j))"
   ]
  },
  {
   "cell_type": "code",
   "execution_count": null,
   "id": "b8186b9b-2a22-4256-a701-9399f1ea7f73",
   "metadata": {},
   "outputs": [],
   "source": []
  }
 ],
 "metadata": {
  "kernelspec": {
   "display_name": "Python 3 (ipykernel)",
   "language": "python",
   "name": "python3"
  },
  "language_info": {
   "codemirror_mode": {
    "name": "ipython",
    "version": 3
   },
   "file_extension": ".py",
   "mimetype": "text/x-python",
   "name": "python",
   "nbconvert_exporter": "python",
   "pygments_lexer": "ipython3",
   "version": "3.11.5"
  }
 },
 "nbformat": 4,
 "nbformat_minor": 5
}
