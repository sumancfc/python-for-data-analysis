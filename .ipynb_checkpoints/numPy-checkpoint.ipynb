{
 "cells": [
  {
   "cell_type": "code",
   "execution_count": 1,
   "id": "271bb152-3d71-4146-aad5-2a70ceff3a58",
   "metadata": {},
   "outputs": [],
   "source": [
    "import numpy as np # NumPy is imported under np alias"
   ]
  },
  {
   "cell_type": "code",
   "execution_count": 2,
   "id": "af48230d-0725-4a6b-bbeb-ce8f540bf435",
   "metadata": {},
   "outputs": [],
   "source": [
    "arr = np.array([1, 2, 3, 4]) # creating numpy ndarray object"
   ]
  },
  {
   "cell_type": "code",
   "execution_count": 3,
   "id": "548d05bf-caed-4774-9afe-c2c5724a28e1",
   "metadata": {},
   "outputs": [
    {
     "name": "stdout",
     "output_type": "stream",
     "text": [
      "[1 2 3 4]\n"
     ]
    }
   ],
   "source": [
    "print(arr)"
   ]
  },
  {
   "cell_type": "code",
   "execution_count": 4,
   "id": "6673c634-087c-4def-80cd-97501ec0833c",
   "metadata": {},
   "outputs": [
    {
     "name": "stdout",
     "output_type": "stream",
     "text": [
      "1.26.0\n"
     ]
    }
   ],
   "source": [
    "print(np.__version__) # checking numpy version"
   ]
  },
  {
   "cell_type": "code",
   "execution_count": null,
   "id": "32c34539-2e04-49ba-b6c0-f637b4c877c2",
   "metadata": {},
   "outputs": [],
   "source": []
  }
 ],
 "metadata": {
  "kernelspec": {
   "display_name": "Python 3 (ipykernel)",
   "language": "python",
   "name": "python3"
  },
  "language_info": {
   "codemirror_mode": {
    "name": "ipython",
    "version": 3
   },
   "file_extension": ".py",
   "mimetype": "text/x-python",
   "name": "python",
   "nbconvert_exporter": "python",
   "pygments_lexer": "ipython3",
   "version": "3.11.5"
  }
 },
 "nbformat": 4,
 "nbformat_minor": 5
}
