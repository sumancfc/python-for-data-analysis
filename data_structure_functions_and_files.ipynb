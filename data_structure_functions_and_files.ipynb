{
 "cells": [
  {
   "cell_type": "code",
   "execution_count": 1,
   "id": "c52f5c82-e2e1-4b34-b0f5-c49e3a189439",
   "metadata": {},
   "outputs": [],
   "source": [
    "tup = (4, 5, 6)"
   ]
  },
  {
   "cell_type": "code",
   "execution_count": 2,
   "id": "d9354290-35e3-48fe-99d5-050a51730421",
   "metadata": {},
   "outputs": [
    {
     "data": {
      "text/plain": [
       "(4, 5, 6)"
      ]
     },
     "execution_count": 2,
     "metadata": {},
     "output_type": "execute_result"
    }
   ],
   "source": [
    "tup"
   ]
  },
  {
   "cell_type": "code",
   "execution_count": 3,
   "id": "8ccb834e-1595-486d-ac33-9d07a45e906e",
   "metadata": {},
   "outputs": [],
   "source": [
    "tup = 4, 5, 6"
   ]
  },
  {
   "cell_type": "code",
   "execution_count": 4,
   "id": "782b9ca0-29df-4af8-b28f-631dee6471d2",
   "metadata": {},
   "outputs": [
    {
     "data": {
      "text/plain": [
       "(4, 5, 6)"
      ]
     },
     "execution_count": 4,
     "metadata": {},
     "output_type": "execute_result"
    }
   ],
   "source": [
    "tup"
   ]
  },
  {
   "cell_type": "code",
   "execution_count": 5,
   "id": "05af3f0c-d429-4ba1-bbb9-1add28a40006",
   "metadata": {},
   "outputs": [
    {
     "data": {
      "text/plain": [
       "(4, 1, 2)"
      ]
     },
     "execution_count": 5,
     "metadata": {},
     "output_type": "execute_result"
    }
   ],
   "source": [
    "tuple([4, 1, 2])"
   ]
  },
  {
   "cell_type": "code",
   "execution_count": 6,
   "id": "f52f764b-f5a2-4ab8-994f-4f7ff50c8f37",
   "metadata": {},
   "outputs": [],
   "source": [
    "tup = tuple('python')"
   ]
  },
  {
   "cell_type": "code",
   "execution_count": 7,
   "id": "12ddffa8-6ce0-4887-b213-46fe22a6c48a",
   "metadata": {},
   "outputs": [
    {
     "data": {
      "text/plain": [
       "('p', 'y', 't', 'h', 'o', 'n')"
      ]
     },
     "execution_count": 7,
     "metadata": {},
     "output_type": "execute_result"
    }
   ],
   "source": [
    "tup"
   ]
  },
  {
   "cell_type": "code",
   "execution_count": 8,
   "id": "0213f434-9a29-481a-a495-dca7f4abe104",
   "metadata": {},
   "outputs": [
    {
     "data": {
      "text/plain": [
       "'p'"
      ]
     },
     "execution_count": 8,
     "metadata": {},
     "output_type": "execute_result"
    }
   ],
   "source": [
    "tup[0]"
   ]
  },
  {
   "cell_type": "code",
   "execution_count": 9,
   "id": "05fe5cee-f9c1-4253-be2a-a53446f2b57e",
   "metadata": {},
   "outputs": [
    {
     "data": {
      "text/plain": [
       "'o'"
      ]
     },
     "execution_count": 9,
     "metadata": {},
     "output_type": "execute_result"
    }
   ],
   "source": [
    "tup[4]"
   ]
  },
  {
   "cell_type": "code",
   "execution_count": 10,
   "id": "38dd077a-c2f0-4aa7-b8d5-ee12933d937f",
   "metadata": {},
   "outputs": [],
   "source": [
    "nested_tuple = (1,2,3), (4,5)"
   ]
  },
  {
   "cell_type": "code",
   "execution_count": 11,
   "id": "3070ea75-f1fd-4a38-8f57-1c121659221c",
   "metadata": {},
   "outputs": [
    {
     "data": {
      "text/plain": [
       "((1, 2, 3), (4, 5))"
      ]
     },
     "execution_count": 11,
     "metadata": {},
     "output_type": "execute_result"
    }
   ],
   "source": [
    "nested_tuple"
   ]
  },
  {
   "cell_type": "code",
   "execution_count": 12,
   "id": "6415c23e-daf1-4b62-b7cf-c9271513c0a1",
   "metadata": {},
   "outputs": [
    {
     "data": {
      "text/plain": [
       "(1, 2, 3)"
      ]
     },
     "execution_count": 12,
     "metadata": {},
     "output_type": "execute_result"
    }
   ],
   "source": [
    "nested_tuple[0]"
   ]
  },
  {
   "cell_type": "code",
   "execution_count": 13,
   "id": "92dafce6-a9f9-43f5-bbd5-db83cc46b3e3",
   "metadata": {},
   "outputs": [
    {
     "data": {
      "text/plain": [
       "(4, 5)"
      ]
     },
     "execution_count": 13,
     "metadata": {},
     "output_type": "execute_result"
    }
   ],
   "source": [
    "nested_tuple[1]"
   ]
  },
  {
   "cell_type": "code",
   "execution_count": 14,
   "id": "4a7287dd-085c-43ae-85e0-c1aac6736319",
   "metadata": {},
   "outputs": [],
   "source": [
    "tup = tuple(['foo', [1,2,3], True])"
   ]
  },
  {
   "cell_type": "code",
   "execution_count": 17,
   "id": "6ccd9320-9561-4bde-b150-8c8d2b6bc75d",
   "metadata": {},
   "outputs": [
    {
     "ename": "TypeError",
     "evalue": "'tuple' object does not support item assignment",
     "output_type": "error",
     "traceback": [
      "\u001b[1;31m---------------------------------------------------------------------------\u001b[0m",
      "\u001b[1;31mTypeError\u001b[0m                                 Traceback (most recent call last)",
      "Cell \u001b[1;32mIn[17], line 1\u001b[0m\n\u001b[1;32m----> 1\u001b[0m \u001b[43mtup\u001b[49m\u001b[43m[\u001b[49m\u001b[38;5;241;43m2\u001b[39;49m\u001b[43m]\u001b[49m \u001b[38;5;241m=\u001b[39m \u001b[38;5;28;01mTrue\u001b[39;00m\n",
      "\u001b[1;31mTypeError\u001b[0m: 'tuple' object does not support item assignment"
     ]
    }
   ],
   "source": [
    "tup[2] = True"
   ]
  },
  {
   "cell_type": "code",
   "execution_count": 18,
   "id": "7c65f475-82c5-4827-9c2a-9dc8599cc3d4",
   "metadata": {},
   "outputs": [],
   "source": [
    "tup[1].append(4)"
   ]
  },
  {
   "cell_type": "code",
   "execution_count": 19,
   "id": "aeb5e555-ba13-4ba3-bd2a-9e95c9b8e34a",
   "metadata": {},
   "outputs": [
    {
     "data": {
      "text/plain": [
       "('foo', [1, 2, 3, 4, 4], True)"
      ]
     },
     "execution_count": 19,
     "metadata": {},
     "output_type": "execute_result"
    }
   ],
   "source": [
    "tup"
   ]
  },
  {
   "cell_type": "code",
   "execution_count": 21,
   "id": "5dfd2c00-a6f9-401f-9863-f50c6903b5ca",
   "metadata": {},
   "outputs": [
    {
     "data": {
      "text/plain": [
       "(1, 2, None, 4.5, 'data', 5, 6, 'hello')"
      ]
     },
     "execution_count": 21,
     "metadata": {},
     "output_type": "execute_result"
    }
   ],
   "source": [
    "(1, 2, None, 4.5, 'data') + (5, 6) + ('hello',)"
   ]
  },
  {
   "cell_type": "code",
   "execution_count": 22,
   "id": "8bbe5af5-d467-460c-a6c9-7ee40801aa5a",
   "metadata": {},
   "outputs": [
    {
     "data": {
      "text/plain": [
       "('foo', 'bar', 'foo', 'bar')"
      ]
     },
     "execution_count": 22,
     "metadata": {},
     "output_type": "execute_result"
    }
   ],
   "source": [
    "('foo', 'bar') * 2"
   ]
  },
  {
   "cell_type": "code",
   "execution_count": 23,
   "id": "ea3657f6-3d64-4585-9a56-45fffb8e692f",
   "metadata": {},
   "outputs": [],
   "source": [
    "tup = (1, 2, 3)"
   ]
  },
  {
   "cell_type": "code",
   "execution_count": 24,
   "id": "33675e11-56ed-45ce-a5b9-ff8ffa60eb8c",
   "metadata": {},
   "outputs": [],
   "source": [
    "a,b,c = tup"
   ]
  },
  {
   "cell_type": "code",
   "execution_count": 25,
   "id": "a473ca18-e725-49f4-92ca-2ab7f2845f7c",
   "metadata": {},
   "outputs": [
    {
     "data": {
      "text/plain": [
       "1"
      ]
     },
     "execution_count": 25,
     "metadata": {},
     "output_type": "execute_result"
    }
   ],
   "source": [
    "a"
   ]
  },
  {
   "cell_type": "code",
   "execution_count": 26,
   "id": "bef89c12-9254-44bf-967e-b7bfac786788",
   "metadata": {},
   "outputs": [],
   "source": [
    "tup = 4, 5, (6, 7)"
   ]
  },
  {
   "cell_type": "code",
   "execution_count": 27,
   "id": "13aceac7-26c0-43bf-a438-c5bc797ef5da",
   "metadata": {},
   "outputs": [
    {
     "ename": "ValueError",
     "evalue": "not enough values to unpack (expected 4, got 3)",
     "output_type": "error",
     "traceback": [
      "\u001b[1;31m---------------------------------------------------------------------------\u001b[0m",
      "\u001b[1;31mValueError\u001b[0m                                Traceback (most recent call last)",
      "Cell \u001b[1;32mIn[27], line 1\u001b[0m\n\u001b[1;32m----> 1\u001b[0m a, b, c, d \u001b[38;5;241m=\u001b[39m tup\n",
      "\u001b[1;31mValueError\u001b[0m: not enough values to unpack (expected 4, got 3)"
     ]
    }
   ],
   "source": [
    "a, b, c, d = tup"
   ]
  },
  {
   "cell_type": "code",
   "execution_count": 28,
   "id": "f3ab346d-6bae-48c8-aad0-42a44fa9c96c",
   "metadata": {},
   "outputs": [],
   "source": [
    "a, b, (c, d) = tup"
   ]
  },
  {
   "cell_type": "code",
   "execution_count": 29,
   "id": "9953d37e-5819-4b50-96f6-2873b962b07f",
   "metadata": {},
   "outputs": [
    {
     "data": {
      "text/plain": [
       "6"
      ]
     },
     "execution_count": 29,
     "metadata": {},
     "output_type": "execute_result"
    }
   ],
   "source": [
    "c"
   ]
  },
  {
   "cell_type": "code",
   "execution_count": 30,
   "id": "521ea90d-f6b4-46d5-b677-c1d6f4df0f69",
   "metadata": {},
   "outputs": [],
   "source": [
    "temp = a"
   ]
  },
  {
   "cell_type": "code",
   "execution_count": 31,
   "id": "6ded5bb4-b9fc-4112-9245-c34bac9c23d8",
   "metadata": {},
   "outputs": [],
   "source": [
    "a = b"
   ]
  },
  {
   "cell_type": "code",
   "execution_count": 32,
   "id": "8f75b240-7574-4674-b027-26513e4d5b77",
   "metadata": {},
   "outputs": [],
   "source": [
    "b = temp"
   ]
  },
  {
   "cell_type": "code",
   "execution_count": 33,
   "id": "13ff8273-ba05-4289-b49e-077a1e07592d",
   "metadata": {},
   "outputs": [],
   "source": [
    "a, b = 4, 5"
   ]
  },
  {
   "cell_type": "code",
   "execution_count": 34,
   "id": "56b9d33a-636e-4c54-94ba-891448bf7c2b",
   "metadata": {},
   "outputs": [
    {
     "data": {
      "text/plain": [
       "4"
      ]
     },
     "execution_count": 34,
     "metadata": {},
     "output_type": "execute_result"
    }
   ],
   "source": [
    "a"
   ]
  },
  {
   "cell_type": "code",
   "execution_count": 35,
   "id": "c0543493-714a-4a6a-af45-2fa6ca6345c6",
   "metadata": {},
   "outputs": [
    {
     "data": {
      "text/plain": [
       "5"
      ]
     },
     "execution_count": 35,
     "metadata": {},
     "output_type": "execute_result"
    }
   ],
   "source": [
    "b"
   ]
  },
  {
   "cell_type": "code",
   "execution_count": 36,
   "id": "c142bf55-3320-4af7-901b-62657bb104fc",
   "metadata": {},
   "outputs": [],
   "source": [
    "b, a = a, b"
   ]
  },
  {
   "cell_type": "code",
   "execution_count": 37,
   "id": "4b60ef41-0de4-47d6-b9a7-a096977fc75e",
   "metadata": {},
   "outputs": [
    {
     "data": {
      "text/plain": [
       "5"
      ]
     },
     "execution_count": 37,
     "metadata": {},
     "output_type": "execute_result"
    }
   ],
   "source": [
    "a"
   ]
  },
  {
   "cell_type": "code",
   "execution_count": 38,
   "id": "b0ac47f7-eeca-4970-a81e-10dd9a89664e",
   "metadata": {},
   "outputs": [
    {
     "data": {
      "text/plain": [
       "4"
      ]
     },
     "execution_count": 38,
     "metadata": {},
     "output_type": "execute_result"
    }
   ],
   "source": [
    "b"
   ]
  },
  {
   "cell_type": "code",
   "execution_count": 40,
   "id": "147bbf20-5395-4086-81d5-5843804a7492",
   "metadata": {},
   "outputs": [],
   "source": [
    "sequence = [(1,2,3), (4,5,6), (7,8,9)]"
   ]
  },
  {
   "cell_type": "code",
   "execution_count": 41,
   "id": "2cdefb08-7fce-4869-980c-f5290ffa45de",
   "metadata": {},
   "outputs": [
    {
     "name": "stdout",
     "output_type": "stream",
     "text": [
      "a=1, b=2, c=3\n",
      "a=4, b=5, c=6\n",
      "a=7, b=8, c=9\n"
     ]
    }
   ],
   "source": [
    "for a, b, c in sequence:\n",
    "    print(f'a={a}, b={b}, c={c}')"
   ]
  },
  {
   "cell_type": "code",
   "execution_count": 42,
   "id": "531dfbc0-dba3-4a3d-84e7-91cfafe5d41e",
   "metadata": {},
   "outputs": [],
   "source": [
    "values = 1,2,3,4,5,6"
   ]
  },
  {
   "cell_type": "code",
   "execution_count": 43,
   "id": "ff6bdf4c-04d9-4abe-8c71-44a39ac43395",
   "metadata": {},
   "outputs": [],
   "source": [
    "a, b, c, *rest = values"
   ]
  },
  {
   "cell_type": "code",
   "execution_count": 44,
   "id": "be2af9dc-19ba-48ca-be25-9a4c168547ad",
   "metadata": {},
   "outputs": [
    {
     "data": {
      "text/plain": [
       "1"
      ]
     },
     "execution_count": 44,
     "metadata": {},
     "output_type": "execute_result"
    }
   ],
   "source": [
    "a"
   ]
  },
  {
   "cell_type": "code",
   "execution_count": 45,
   "id": "41d8e27b-165d-48a3-9c72-4a6dfde65e0d",
   "metadata": {},
   "outputs": [
    {
     "data": {
      "text/plain": [
       "[4, 5, 6]"
      ]
     },
     "execution_count": 45,
     "metadata": {},
     "output_type": "execute_result"
    }
   ],
   "source": [
    "rest"
   ]
  },
  {
   "cell_type": "code",
   "execution_count": 46,
   "id": "2c5985bb-2251-45c1-a2a0-e379060097e3",
   "metadata": {},
   "outputs": [],
   "source": [
    "a, b, *_ = values"
   ]
  },
  {
   "cell_type": "code",
   "execution_count": 47,
   "id": "e203f4e9-2d57-4011-98ce-5d12ed731c58",
   "metadata": {},
   "outputs": [
    {
     "data": {
      "text/plain": [
       "[3, 4, 5, 6]"
      ]
     },
     "execution_count": 47,
     "metadata": {},
     "output_type": "execute_result"
    }
   ],
   "source": [
    "_"
   ]
  },
  {
   "cell_type": "code",
   "execution_count": 48,
   "id": "d88ace3e-bb3c-46e8-bd5f-1adbf0783f02",
   "metadata": {},
   "outputs": [
    {
     "data": {
      "text/plain": [
       "2"
      ]
     },
     "execution_count": 48,
     "metadata": {},
     "output_type": "execute_result"
    }
   ],
   "source": [
    "b"
   ]
  },
  {
   "cell_type": "code",
   "execution_count": 49,
   "id": "d003412d-e581-4cf2-93bd-3172ec2b4366",
   "metadata": {},
   "outputs": [],
   "source": [
    "x = (1,2,3,2,3,2,2,4)"
   ]
  },
  {
   "cell_type": "code",
   "execution_count": 50,
   "id": "569fb316-4b65-458e-8634-97e03afe9150",
   "metadata": {},
   "outputs": [
    {
     "data": {
      "text/plain": [
       "2"
      ]
     },
     "execution_count": 50,
     "metadata": {},
     "output_type": "execute_result"
    }
   ],
   "source": [
    "x.count(3)"
   ]
  },
  {
   "cell_type": "code",
   "execution_count": 53,
   "id": "53a790bb-7008-46dc-a780-5d739ac8d9b1",
   "metadata": {},
   "outputs": [
    {
     "data": {
      "text/plain": [
       "4"
      ]
     },
     "execution_count": 53,
     "metadata": {},
     "output_type": "execute_result"
    }
   ],
   "source": [
    "x.count(2)"
   ]
  },
  {
   "cell_type": "code",
   "execution_count": 54,
   "id": "722f7036-56da-40cf-ac5f-d5d76ba73718",
   "metadata": {},
   "outputs": [],
   "source": [
    "a_list = [1, 2, 3, True, None]"
   ]
  },
  {
   "cell_type": "code",
   "execution_count": 55,
   "id": "3d6a9c46-57e6-456d-a7ee-28348d41b087",
   "metadata": {},
   "outputs": [],
   "source": [
    "tup = ('foo', 'bar', None)"
   ]
  },
  {
   "cell_type": "code",
   "execution_count": 56,
   "id": "e383b298-63df-4a8b-82cd-185c434b9a45",
   "metadata": {},
   "outputs": [],
   "source": [
    "b_list = list(tup)"
   ]
  },
  {
   "cell_type": "code",
   "execution_count": 57,
   "id": "ed957673-d068-4ed0-b179-faf43c047c06",
   "metadata": {},
   "outputs": [
    {
     "data": {
      "text/plain": [
       "['foo', 'bar', None]"
      ]
     },
     "execution_count": 57,
     "metadata": {},
     "output_type": "execute_result"
    }
   ],
   "source": [
    "b_list"
   ]
  },
  {
   "cell_type": "code",
   "execution_count": 58,
   "id": "1846b6b6-f716-4768-ac9d-5cbda85a59a9",
   "metadata": {},
   "outputs": [],
   "source": [
    "b_list[2] = 'data'"
   ]
  },
  {
   "cell_type": "code",
   "execution_count": 59,
   "id": "1885d69a-52a3-47c1-8903-37576f255827",
   "metadata": {},
   "outputs": [
    {
     "data": {
      "text/plain": [
       "['foo', 'bar', 'data']"
      ]
     },
     "execution_count": 59,
     "metadata": {},
     "output_type": "execute_result"
    }
   ],
   "source": [
    "b_list"
   ]
  },
  {
   "cell_type": "code",
   "execution_count": 60,
   "id": "2495a0a1-3e72-4412-95d9-8a4d07f22f57",
   "metadata": {},
   "outputs": [],
   "source": [
    "gen = range(8)"
   ]
  },
  {
   "cell_type": "code",
   "execution_count": 61,
   "id": "315e4b57-dea8-4232-8cc9-e47b0f91f512",
   "metadata": {},
   "outputs": [
    {
     "data": {
      "text/plain": [
       "range(0, 8)"
      ]
     },
     "execution_count": 61,
     "metadata": {},
     "output_type": "execute_result"
    }
   ],
   "source": [
    "gen"
   ]
  },
  {
   "cell_type": "code",
   "execution_count": 62,
   "id": "be8a1c09-8a8a-4986-94dd-9524a6fd4a2f",
   "metadata": {},
   "outputs": [
    {
     "data": {
      "text/plain": [
       "[0, 1, 2, 3, 4, 5, 6, 7]"
      ]
     },
     "execution_count": 62,
     "metadata": {},
     "output_type": "execute_result"
    }
   ],
   "source": [
    "list(gen)"
   ]
  },
  {
   "cell_type": "code",
   "execution_count": 63,
   "id": "0085003a-3318-444d-8f90-ec18e46e326e",
   "metadata": {},
   "outputs": [],
   "source": [
    "b_list.append('hello')"
   ]
  },
  {
   "cell_type": "code",
   "execution_count": 64,
   "id": "6b0c3f5a-d1be-4671-bb8a-ff6e5716e60e",
   "metadata": {},
   "outputs": [
    {
     "data": {
      "text/plain": [
       "['foo', 'bar', 'data', 'hello']"
      ]
     },
     "execution_count": 64,
     "metadata": {},
     "output_type": "execute_result"
    }
   ],
   "source": [
    "b_list"
   ]
  },
  {
   "cell_type": "code",
   "execution_count": 65,
   "id": "4d0d653f-07e2-4e29-a46a-0c23462ae713",
   "metadata": {},
   "outputs": [],
   "source": [
    "b_list.insert(3, 'python')"
   ]
  },
  {
   "cell_type": "code",
   "execution_count": 66,
   "id": "d5d6ff80-264c-41e1-9277-bce9ba46c85c",
   "metadata": {},
   "outputs": [
    {
     "data": {
      "text/plain": [
       "['foo', 'bar', 'data', 'python', 'hello']"
      ]
     },
     "execution_count": 66,
     "metadata": {},
     "output_type": "execute_result"
    }
   ],
   "source": [
    "b_list"
   ]
  },
  {
   "cell_type": "code",
   "execution_count": 67,
   "id": "8567645f-94ac-4f6c-ad31-b527c9776816",
   "metadata": {},
   "outputs": [
    {
     "data": {
      "text/plain": [
       "'hello'"
      ]
     },
     "execution_count": 67,
     "metadata": {},
     "output_type": "execute_result"
    }
   ],
   "source": [
    "b_list.pop()"
   ]
  },
  {
   "cell_type": "code",
   "execution_count": 68,
   "id": "fc62998e-746e-481d-b12d-6bf820f25cbc",
   "metadata": {},
   "outputs": [
    {
     "data": {
      "text/plain": [
       "'bar'"
      ]
     },
     "execution_count": 68,
     "metadata": {},
     "output_type": "execute_result"
    }
   ],
   "source": [
    "b_list.pop(1)"
   ]
  },
  {
   "cell_type": "code",
   "execution_count": 69,
   "id": "f7bebe4e-cdd0-41ce-b2d0-b62d299624c8",
   "metadata": {},
   "outputs": [
    {
     "data": {
      "text/plain": [
       "['foo', 'data', 'python']"
      ]
     },
     "execution_count": 69,
     "metadata": {},
     "output_type": "execute_result"
    }
   ],
   "source": [
    "b_list"
   ]
  },
  {
   "cell_type": "code",
   "execution_count": 70,
   "id": "805ce5da-8b17-4ec2-b32e-3c2e7bd04bd8",
   "metadata": {},
   "outputs": [
    {
     "ename": "TypeError",
     "evalue": "list.remove() takes exactly one argument (0 given)",
     "output_type": "error",
     "traceback": [
      "\u001b[1;31m---------------------------------------------------------------------------\u001b[0m",
      "\u001b[1;31mTypeError\u001b[0m                                 Traceback (most recent call last)",
      "Cell \u001b[1;32mIn[70], line 1\u001b[0m\n\u001b[1;32m----> 1\u001b[0m \u001b[43mb_list\u001b[49m\u001b[38;5;241;43m.\u001b[39;49m\u001b[43mremove\u001b[49m\u001b[43m(\u001b[49m\u001b[43m)\u001b[49m\n",
      "\u001b[1;31mTypeError\u001b[0m: list.remove() takes exactly one argument (0 given)"
     ]
    }
   ],
   "source": [
    "b_list.remove()"
   ]
  },
  {
   "cell_type": "code",
   "execution_count": 71,
   "id": "1bc8a173-cea2-4455-8990-0bb266e2847b",
   "metadata": {},
   "outputs": [
    {
     "ename": "ValueError",
     "evalue": "list.remove(x): x not in list",
     "output_type": "error",
     "traceback": [
      "\u001b[1;31m---------------------------------------------------------------------------\u001b[0m",
      "\u001b[1;31mValueError\u001b[0m                                Traceback (most recent call last)",
      "Cell \u001b[1;32mIn[71], line 1\u001b[0m\n\u001b[1;32m----> 1\u001b[0m \u001b[43mb_list\u001b[49m\u001b[38;5;241;43m.\u001b[39;49m\u001b[43mremove\u001b[49m\u001b[43m(\u001b[49m\u001b[38;5;241;43m0\u001b[39;49m\u001b[43m)\u001b[49m\n",
      "\u001b[1;31mValueError\u001b[0m: list.remove(x): x not in list"
     ]
    }
   ],
   "source": [
    "b_list.remove(0)"
   ]
  },
  {
   "cell_type": "code",
   "execution_count": 72,
   "id": "c0eea403-08df-4a88-b511-09e7e728a451",
   "metadata": {},
   "outputs": [],
   "source": [
    "b_list.remove('foo')"
   ]
  },
  {
   "cell_type": "code",
   "execution_count": 73,
   "id": "c03745b2-ee49-4980-8bb4-d34c38a4d74a",
   "metadata": {},
   "outputs": [
    {
     "data": {
      "text/plain": [
       "['data', 'python']"
      ]
     },
     "execution_count": 73,
     "metadata": {},
     "output_type": "execute_result"
    }
   ],
   "source": [
    "b_list"
   ]
  },
  {
   "cell_type": "code",
   "execution_count": 74,
   "id": "5c349ae9-f2c4-4ce7-8133-76af976cedf5",
   "metadata": {},
   "outputs": [
    {
     "data": {
      "text/plain": [
       "False"
      ]
     },
     "execution_count": 74,
     "metadata": {},
     "output_type": "execute_result"
    }
   ],
   "source": [
    "'jupyter' in b_list"
   ]
  },
  {
   "cell_type": "code",
   "execution_count": 75,
   "id": "28ba0053-23bc-46da-912d-bf8d2d66f86e",
   "metadata": {},
   "outputs": [
    {
     "data": {
      "text/plain": [
       "True"
      ]
     },
     "execution_count": 75,
     "metadata": {},
     "output_type": "execute_result"
    }
   ],
   "source": [
    "'data' in b_list"
   ]
  },
  {
   "cell_type": "code",
   "execution_count": 76,
   "id": "b1596e70-a24e-4eb7-ade3-b4f7320a1342",
   "metadata": {},
   "outputs": [
    {
     "data": {
      "text/plain": [
       "[4, None, 'foo', 1, 2, 3, (5, 6)]"
      ]
     },
     "execution_count": 76,
     "metadata": {},
     "output_type": "execute_result"
    }
   ],
   "source": [
    "[4, None, 'foo'] + [ 1,2,3,(5,6)]"
   ]
  },
  {
   "cell_type": "code",
   "execution_count": 77,
   "id": "f1806383-083a-471c-b0d4-8e20db7c4fc1",
   "metadata": {},
   "outputs": [],
   "source": [
    "x = [1, None, True, 'foo']"
   ]
  },
  {
   "cell_type": "code",
   "execution_count": 78,
   "id": "04276633-aefa-4b3a-b883-8e5f5b5c8338",
   "metadata": {},
   "outputs": [],
   "source": [
    "x.extend([2,3,5, (5,6)])"
   ]
  },
  {
   "cell_type": "code",
   "execution_count": 79,
   "id": "e242a2a1-709b-454b-98c8-13fe22fef030",
   "metadata": {},
   "outputs": [
    {
     "data": {
      "text/plain": [
       "[1, None, True, 'foo', 2, 3, 5, (5, 6)]"
      ]
     },
     "execution_count": 79,
     "metadata": {},
     "output_type": "execute_result"
    }
   ],
   "source": [
    "x"
   ]
  },
  {
   "cell_type": "code",
   "execution_count": 80,
   "id": "5c91e4fd-d6d7-4977-ac0d-41b2b05aaf09",
   "metadata": {},
   "outputs": [
    {
     "data": {
      "text/plain": [
       "1"
      ]
     },
     "execution_count": 80,
     "metadata": {},
     "output_type": "execute_result"
    }
   ],
   "source": [
    "x.count(5)"
   ]
  },
  {
   "cell_type": "code",
   "execution_count": 81,
   "id": "909497de-397d-4be0-a9fc-47ba6e4d81b1",
   "metadata": {},
   "outputs": [],
   "source": [
    "a = [1, 3, 5, 2, 6, 4]"
   ]
  },
  {
   "cell_type": "code",
   "execution_count": 82,
   "id": "36430006-3f9b-4572-9cce-0c71a3655a71",
   "metadata": {},
   "outputs": [],
   "source": [
    "a.sort()"
   ]
  },
  {
   "cell_type": "code",
   "execution_count": 83,
   "id": "6816f72c-7849-4dfd-a0a8-ecc69e34f31f",
   "metadata": {},
   "outputs": [
    {
     "data": {
      "text/plain": [
       "[1, 2, 3, 4, 5, 6]"
      ]
     },
     "execution_count": 83,
     "metadata": {},
     "output_type": "execute_result"
    }
   ],
   "source": [
    "a"
   ]
  },
  {
   "cell_type": "code",
   "execution_count": 84,
   "id": "12073a63-ae2e-42f4-b28b-1d7463aaf8ad",
   "metadata": {},
   "outputs": [],
   "source": [
    "fruits = ['apple', 'banana', 'cherry', 'watermelon', 'kiwi']"
   ]
  },
  {
   "cell_type": "code",
   "execution_count": 85,
   "id": "2717f651-1ebb-4ff5-aef7-18cb9f755e85",
   "metadata": {},
   "outputs": [],
   "source": [
    "fruits.sort()"
   ]
  },
  {
   "cell_type": "code",
   "execution_count": 86,
   "id": "03233273-3d0d-44e3-ba1f-4d2f3a8aeade",
   "metadata": {},
   "outputs": [
    {
     "data": {
      "text/plain": [
       "['apple', 'banana', 'cherry', 'kiwi', 'watermelon']"
      ]
     },
     "execution_count": 86,
     "metadata": {},
     "output_type": "execute_result"
    }
   ],
   "source": [
    "fruits"
   ]
  },
  {
   "cell_type": "code",
   "execution_count": 87,
   "id": "646e952b-341e-4522-9c49-2a241b0d0410",
   "metadata": {},
   "outputs": [],
   "source": [
    "fruits.sort(key=len)"
   ]
  },
  {
   "cell_type": "code",
   "execution_count": 88,
   "id": "8809055a-f080-4713-b27e-0a1d5f5d1fe8",
   "metadata": {},
   "outputs": [
    {
     "data": {
      "text/plain": [
       "['kiwi', 'apple', 'banana', 'cherry', 'watermelon']"
      ]
     },
     "execution_count": 88,
     "metadata": {},
     "output_type": "execute_result"
    }
   ],
   "source": [
    "fruits"
   ]
  },
  {
   "cell_type": "code",
   "execution_count": 89,
   "id": "3c9f3ba2-fcec-4b98-bb26-451685480937",
   "metadata": {},
   "outputs": [],
   "source": [
    "seq = [1,2,3,7,8,0,4]"
   ]
  },
  {
   "cell_type": "code",
   "execution_count": 90,
   "id": "508135df-2477-4b0b-a6a7-2ef9399cd8e8",
   "metadata": {},
   "outputs": [
    {
     "data": {
      "text/plain": [
       "[3]"
      ]
     },
     "execution_count": 90,
     "metadata": {},
     "output_type": "execute_result"
    }
   ],
   "source": [
    "seq[2:3]"
   ]
  },
  {
   "cell_type": "code",
   "execution_count": 91,
   "id": "69e236a1-1961-43c9-8fca-11d2777ea9b4",
   "metadata": {},
   "outputs": [
    {
     "data": {
      "text/plain": [
       "[1, 2, 3, 7]"
      ]
     },
     "execution_count": 91,
     "metadata": {},
     "output_type": "execute_result"
    }
   ],
   "source": [
    "seq[0:4]"
   ]
  },
  {
   "cell_type": "code",
   "execution_count": 92,
   "id": "b177bb73-ef8e-4354-b355-2c6b506c02d3",
   "metadata": {},
   "outputs": [],
   "source": [
    "empty_dist = {}"
   ]
  },
  {
   "cell_type": "code",
   "execution_count": 93,
   "id": "0a4f7e43-827d-48f8-904b-57b477d70306",
   "metadata": {},
   "outputs": [],
   "source": [
    "d1 = {'a': 'some value', 'b': [1, 2, 3]}"
   ]
  },
  {
   "cell_type": "code",
   "execution_count": 94,
   "id": "2cc89383-7a10-4918-b500-a4366cdbdc09",
   "metadata": {},
   "outputs": [
    {
     "data": {
      "text/plain": [
       "{'a': 'some value', 'b': [1, 2, 3]}"
      ]
     },
     "execution_count": 94,
     "metadata": {},
     "output_type": "execute_result"
    }
   ],
   "source": [
    "d1"
   ]
  },
  {
   "cell_type": "code",
   "execution_count": 95,
   "id": "7e6e50b2-5a87-4558-bac7-1ba058a2a623",
   "metadata": {},
   "outputs": [],
   "source": [
    "d1[1] = 'an integer'"
   ]
  },
  {
   "cell_type": "code",
   "execution_count": 96,
   "id": "9c580e1e-ff6c-45b1-9cc0-ab488c0f352f",
   "metadata": {},
   "outputs": [
    {
     "data": {
      "text/plain": [
       "{'a': 'some value', 'b': [1, 2, 3], 1: 'an integer'}"
      ]
     },
     "execution_count": 96,
     "metadata": {},
     "output_type": "execute_result"
    }
   ],
   "source": [
    "d1"
   ]
  },
  {
   "cell_type": "code",
   "execution_count": 97,
   "id": "cfc09d7e-7f64-40c6-b10b-7fe10039fca1",
   "metadata": {},
   "outputs": [
    {
     "data": {
      "text/plain": [
       "'some value'"
      ]
     },
     "execution_count": 97,
     "metadata": {},
     "output_type": "execute_result"
    }
   ],
   "source": [
    "d1[\"a\"]"
   ]
  },
  {
   "cell_type": "code",
   "execution_count": 98,
   "id": "94a56807-06b4-44c4-b2e1-65122db6dc7b",
   "metadata": {},
   "outputs": [
    {
     "data": {
      "text/plain": [
       "True"
      ]
     },
     "execution_count": 98,
     "metadata": {},
     "output_type": "execute_result"
    }
   ],
   "source": [
    "'b' in d1"
   ]
  },
  {
   "cell_type": "code",
   "execution_count": 99,
   "id": "f0343682-6882-482b-aef3-9968f58efafb",
   "metadata": {},
   "outputs": [
    {
     "data": {
      "text/plain": [
       "False"
      ]
     },
     "execution_count": 99,
     "metadata": {},
     "output_type": "execute_result"
    }
   ],
   "source": [
    "'1' in d1"
   ]
  },
  {
   "cell_type": "code",
   "execution_count": 100,
   "id": "d65099ec-2789-41af-8bab-caa99e6a583e",
   "metadata": {},
   "outputs": [
    {
     "data": {
      "text/plain": [
       "True"
      ]
     },
     "execution_count": 100,
     "metadata": {},
     "output_type": "execute_result"
    }
   ],
   "source": [
    "1 in d1"
   ]
  },
  {
   "cell_type": "code",
   "execution_count": 101,
   "id": "6245e8de-da4e-49ab-b224-fa776aa6627f",
   "metadata": {},
   "outputs": [],
   "source": [
    "d1[2] = 'new value'"
   ]
  },
  {
   "cell_type": "code",
   "execution_count": 102,
   "id": "54cfd8d5-7cb8-4f47-b332-a09df08caef0",
   "metadata": {},
   "outputs": [
    {
     "data": {
      "text/plain": [
       "{'a': 'some value', 'b': [1, 2, 3], 1: 'an integer', 2: 'new value'}"
      ]
     },
     "execution_count": 102,
     "metadata": {},
     "output_type": "execute_result"
    }
   ],
   "source": [
    "d1"
   ]
  },
  {
   "cell_type": "code",
   "execution_count": 103,
   "id": "eb37bf52-051b-4717-a978-d26703248195",
   "metadata": {},
   "outputs": [],
   "source": [
    "d1[\"hello\"] = \"python\""
   ]
  },
  {
   "cell_type": "code",
   "execution_count": 104,
   "id": "d543d044-650d-4cbc-863c-00ee0e8109fa",
   "metadata": {},
   "outputs": [
    {
     "data": {
      "text/plain": [
       "{'a': 'some value',\n",
       " 'b': [1, 2, 3],\n",
       " 1: 'an integer',\n",
       " 2: 'new value',\n",
       " 'hello': 'python'}"
      ]
     },
     "execution_count": 104,
     "metadata": {},
     "output_type": "execute_result"
    }
   ],
   "source": [
    "d1"
   ]
  },
  {
   "cell_type": "code",
   "execution_count": 105,
   "id": "e06b20f9-704d-4397-9b4a-b12a24bb8ee5",
   "metadata": {},
   "outputs": [],
   "source": [
    "del d1[2]"
   ]
  },
  {
   "cell_type": "code",
   "execution_count": 106,
   "id": "1827be4f-3177-4532-a010-9ad653bd2695",
   "metadata": {},
   "outputs": [
    {
     "data": {
      "text/plain": [
       "{'a': 'some value', 'b': [1, 2, 3], 1: 'an integer', 'hello': 'python'}"
      ]
     },
     "execution_count": 106,
     "metadata": {},
     "output_type": "execute_result"
    }
   ],
   "source": [
    "d1"
   ]
  },
  {
   "cell_type": "code",
   "execution_count": 107,
   "id": "bef99502-7708-4112-8ad9-61f4cfdc83e6",
   "metadata": {},
   "outputs": [],
   "source": [
    "ret = d1.pop('hello')"
   ]
  },
  {
   "cell_type": "code",
   "execution_count": 108,
   "id": "d0985c34-903f-4a97-a321-1e1d3bbca077",
   "metadata": {},
   "outputs": [
    {
     "data": {
      "text/plain": [
       "'python'"
      ]
     },
     "execution_count": 108,
     "metadata": {},
     "output_type": "execute_result"
    }
   ],
   "source": [
    "ret"
   ]
  },
  {
   "cell_type": "code",
   "execution_count": 109,
   "id": "dbe78455-a3db-41ba-97d5-19c3fec1504d",
   "metadata": {},
   "outputs": [
    {
     "data": {
      "text/plain": [
       "{'a': 'some value', 'b': [1, 2, 3], 1: 'an integer'}"
      ]
     },
     "execution_count": 109,
     "metadata": {},
     "output_type": "execute_result"
    }
   ],
   "source": [
    "d1"
   ]
  },
  {
   "cell_type": "code",
   "execution_count": 110,
   "id": "740bac44-15e9-4fa9-b2ee-51f9c0205fa5",
   "metadata": {},
   "outputs": [
    {
     "data": {
      "text/plain": [
       "['a', 'b', 1]"
      ]
     },
     "execution_count": 110,
     "metadata": {},
     "output_type": "execute_result"
    }
   ],
   "source": [
    "list(d1.keys())"
   ]
  },
  {
   "cell_type": "code",
   "execution_count": 111,
   "id": "bdf0b859-536e-4595-975e-f8458727986d",
   "metadata": {},
   "outputs": [
    {
     "data": {
      "text/plain": [
       "['some value', [1, 2, 3], 'an integer']"
      ]
     },
     "execution_count": 111,
     "metadata": {},
     "output_type": "execute_result"
    }
   ],
   "source": [
    "list(d1.values())"
   ]
  },
  {
   "cell_type": "code",
   "execution_count": 112,
   "id": "ff98eb66-6b68-476c-bbcf-c4a323fd160b",
   "metadata": {},
   "outputs": [
    {
     "data": {
      "text/plain": [
       "[('a', 'some value'), ('b', [1, 2, 3]), (1, 'an integer')]"
      ]
     },
     "execution_count": 112,
     "metadata": {},
     "output_type": "execute_result"
    }
   ],
   "source": [
    "list(d1.items())"
   ]
  },
  {
   "cell_type": "code",
   "execution_count": 113,
   "id": "e65d3353-9608-4c5a-808c-87f8c96c8106",
   "metadata": {},
   "outputs": [],
   "source": [
    "d1.update({'b': 'new updated value', 'c':'new value'}) # we can merge one dictionary into another using the update method"
   ]
  },
  {
   "cell_type": "code",
   "execution_count": 114,
   "id": "a008aa98-d58d-4788-82e0-e3d426c888d3",
   "metadata": {},
   "outputs": [
    {
     "data": {
      "text/plain": [
       "{'a': 'some value',\n",
       " 'b': 'new updated value',\n",
       " 1: 'an integer',\n",
       " 'c': 'new value'}"
      ]
     },
     "execution_count": 114,
     "metadata": {},
     "output_type": "execute_result"
    }
   ],
   "source": [
    "d1"
   ]
  },
  {
   "cell_type": "code",
   "execution_count": 117,
   "id": "9727afb0-1ccc-48ed-8209-4d30fb94c75b",
   "metadata": {},
   "outputs": [
    {
     "ename": "NameError",
     "evalue": "name 'key_list' is not defined",
     "output_type": "error",
     "traceback": [
      "\u001b[1;31m---------------------------------------------------------------------------\u001b[0m",
      "\u001b[1;31mNameError\u001b[0m                                 Traceback (most recent call last)",
      "Cell \u001b[1;32mIn[117], line 2\u001b[0m\n\u001b[0;32m      1\u001b[0m mapping \u001b[38;5;241m=\u001b[39m {} \u001b[38;5;66;03m# creating dictionaries from sequences\u001b[39;00m\n\u001b[1;32m----> 2\u001b[0m \u001b[38;5;28;01mfor\u001b[39;00m key, value \u001b[38;5;129;01min\u001b[39;00m \u001b[38;5;28mzip\u001b[39m(\u001b[43mkey_list\u001b[49m, value_list):\n\u001b[0;32m      3\u001b[0m     mapping[key] \u001b[38;5;241m=\u001b[39m value\n",
      "\u001b[1;31mNameError\u001b[0m: name 'key_list' is not defined"
     ]
    }
   ],
   "source": [
    "mapping = {} # creating dictionaries from sequences\n",
    "for key, value in zip(key_list, value_list):\n",
    "    mapping[key] = value"
   ]
  },
  {
   "cell_type": "code",
   "execution_count": 121,
   "id": "ba4fd55d-8fc9-43a7-83ee-18e515a3afb0",
   "metadata": {},
   "outputs": [],
   "source": [
    "tuples = zip(range(5), reversed(range(5)))"
   ]
  },
  {
   "cell_type": "code",
   "execution_count": 122,
   "id": "06e9dba1-f56f-4ca3-b1cd-d57cbb9984d2",
   "metadata": {},
   "outputs": [
    {
     "data": {
      "text/plain": [
       "<zip at 0x163c53fef80>"
      ]
     },
     "execution_count": 122,
     "metadata": {},
     "output_type": "execute_result"
    }
   ],
   "source": [
    "tuples"
   ]
  },
  {
   "cell_type": "code",
   "execution_count": 123,
   "id": "55f05959-bdfc-4caa-804d-08f919aedfff",
   "metadata": {},
   "outputs": [],
   "source": [
    "mapping = dict(tuples)"
   ]
  },
  {
   "cell_type": "code",
   "execution_count": 124,
   "id": "53945b9e-7fdc-4a76-bd3b-488446ad237f",
   "metadata": {},
   "outputs": [
    {
     "data": {
      "text/plain": [
       "{0: 4, 1: 3, 2: 2, 3: 1, 4: 0}"
      ]
     },
     "execution_count": 124,
     "metadata": {},
     "output_type": "execute_result"
    }
   ],
   "source": [
    "mapping"
   ]
  },
  {
   "cell_type": "code",
   "execution_count": 125,
   "id": "132c83d4-1e32-4a41-b32c-43b8d02e158b",
   "metadata": {},
   "outputs": [],
   "source": [
    "words = ['hi', 'hello', 'apple', 'ball']"
   ]
  },
  {
   "cell_type": "code",
   "execution_count": 126,
   "id": "15ace567-db08-4ec4-b60a-740858477f91",
   "metadata": {},
   "outputs": [],
   "source": [
    "by_letter = {}"
   ]
  },
  {
   "cell_type": "code",
   "execution_count": 127,
   "id": "aa836e7b-5d2b-4c34-b85c-de7f9bf19d29",
   "metadata": {},
   "outputs": [],
   "source": [
    "for word in words:\n",
    "    letter = word[0]\n",
    "    if letter not in by_letter:\n",
    "        by_letter[letter] = [word]\n",
    "    else:\n",
    "        by_letter[letter].append(word)"
   ]
  },
  {
   "cell_type": "code",
   "execution_count": 128,
   "id": "29b4c545-e7f6-4353-a1bf-7c733ee76aed",
   "metadata": {},
   "outputs": [
    {
     "data": {
      "text/plain": [
       "{'h': ['hi', 'hello'], 'a': ['apple'], 'b': ['ball']}"
      ]
     },
     "execution_count": 128,
     "metadata": {},
     "output_type": "execute_result"
    }
   ],
   "source": [
    "by_letter"
   ]
  },
  {
   "cell_type": "code",
   "execution_count": 129,
   "id": "901f666e-2112-43ec-b439-83101c83a921",
   "metadata": {},
   "outputs": [],
   "source": [
    "by_letter = {}"
   ]
  },
  {
   "cell_type": "code",
   "execution_count": 131,
   "id": "8359b1da-73a2-4ad4-b442-f9d2fb0edf9f",
   "metadata": {},
   "outputs": [],
   "source": [
    "for word in words:\n",
    "    letter = word[0]\n",
    "    by_letter.setdefault(letter, []).append(word) # default value"
   ]
  },
  {
   "cell_type": "code",
   "execution_count": 132,
   "id": "ee14ddf1-3bae-41bf-ad38-0892481291dd",
   "metadata": {},
   "outputs": [
    {
     "data": {
      "text/plain": [
       "{'h': ['hi', 'hello'], 'a': ['apple'], 'b': ['ball']}"
      ]
     },
     "execution_count": 132,
     "metadata": {},
     "output_type": "execute_result"
    }
   ],
   "source": [
    "by_letter"
   ]
  },
  {
   "cell_type": "code",
   "execution_count": 134,
   "id": "5a597881-8673-4397-b3d0-d08197f25ee3",
   "metadata": {},
   "outputs": [
    {
     "data": {
      "text/plain": [
       "-2541130932194928089"
      ]
     },
     "execution_count": 134,
     "metadata": {},
     "output_type": "execute_result"
    }
   ],
   "source": [
    "hash('string') # valid dictionary key types"
   ]
  },
  {
   "cell_type": "code",
   "execution_count": 135,
   "id": "fbad6cbb-1836-469e-af0c-53f37eb212f6",
   "metadata": {},
   "outputs": [
    {
     "data": {
      "text/plain": [
       "-9209053662355515447"
      ]
     },
     "execution_count": 135,
     "metadata": {},
     "output_type": "execute_result"
    }
   ],
   "source": [
    "hash((1,2,(2,3)))"
   ]
  },
  {
   "cell_type": "code",
   "execution_count": 136,
   "id": "db80c100-ebc4-49d3-98aa-fa30510d8db8",
   "metadata": {},
   "outputs": [
    {
     "ename": "TypeError",
     "evalue": "unhashable type: 'list'",
     "output_type": "error",
     "traceback": [
      "\u001b[1;31m---------------------------------------------------------------------------\u001b[0m",
      "\u001b[1;31mTypeError\u001b[0m                                 Traceback (most recent call last)",
      "Cell \u001b[1;32mIn[136], line 1\u001b[0m\n\u001b[1;32m----> 1\u001b[0m \u001b[38;5;28;43mhash\u001b[39;49m\u001b[43m(\u001b[49m\u001b[43m(\u001b[49m\u001b[38;5;241;43m1\u001b[39;49m\u001b[43m,\u001b[49m\u001b[38;5;241;43m2\u001b[39;49m\u001b[43m,\u001b[49m\u001b[43m \u001b[49m\u001b[43m[\u001b[49m\u001b[38;5;241;43m3\u001b[39;49m\u001b[43m,\u001b[49m\u001b[38;5;241;43m4\u001b[39;49m\u001b[43m]\u001b[49m\u001b[43m)\u001b[49m\u001b[43m)\u001b[49m\n",
      "\u001b[1;31mTypeError\u001b[0m: unhashable type: 'list'"
     ]
    }
   ],
   "source": [
    "hash((1,2, [3,4])) # fails because lists are mutable"
   ]
  },
  {
   "cell_type": "code",
   "execution_count": null,
   "id": "3a050627-9754-460a-b889-af44b1d6e0f1",
   "metadata": {},
   "outputs": [],
   "source": []
  }
 ],
 "metadata": {
  "kernelspec": {
   "display_name": "Python 3 (ipykernel)",
   "language": "python",
   "name": "python3"
  },
  "language_info": {
   "codemirror_mode": {
    "name": "ipython",
    "version": 3
   },
   "file_extension": ".py",
   "mimetype": "text/x-python",
   "name": "python",
   "nbconvert_exporter": "python",
   "pygments_lexer": "ipython3",
   "version": "3.11.5"
  }
 },
 "nbformat": 4,
 "nbformat_minor": 5
}
