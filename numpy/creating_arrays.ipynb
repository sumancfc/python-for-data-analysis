{
 "cells": [
  {
   "cell_type": "code",
   "execution_count": 1,
   "id": "271bb152-3d71-4146-aad5-2a70ceff3a58",
   "metadata": {},
   "outputs": [],
   "source": [
    "import numpy as np # NumPy is imported under np alias"
   ]
  },
  {
   "cell_type": "code",
   "execution_count": 2,
   "id": "af48230d-0725-4a6b-bbeb-ce8f540bf435",
   "metadata": {},
   "outputs": [],
   "source": [
    "arr = np.array([1, 2, 3, 4]) # creating numpy ndarray object"
   ]
  },
  {
   "cell_type": "code",
   "execution_count": 3,
   "id": "548d05bf-caed-4774-9afe-c2c5724a28e1",
   "metadata": {},
   "outputs": [
    {
     "name": "stdout",
     "output_type": "stream",
     "text": [
      "[1 2 3 4]\n"
     ]
    }
   ],
   "source": [
    "print(arr)"
   ]
  },
  {
   "cell_type": "code",
   "execution_count": 4,
   "id": "6673c634-087c-4def-80cd-97501ec0833c",
   "metadata": {},
   "outputs": [
    {
     "name": "stdout",
     "output_type": "stream",
     "text": [
      "1.26.0\n"
     ]
    }
   ],
   "source": [
    "print(np.__version__) # checking numpy version"
   ]
  },
  {
   "cell_type": "code",
   "execution_count": 6,
   "id": "32c34539-2e04-49ba-b6c0-f637b4c877c2",
   "metadata": {},
   "outputs": [
    {
     "name": "stdout",
     "output_type": "stream",
     "text": [
      "<class 'numpy.ndarray'>\n"
     ]
    }
   ],
   "source": [
    "print(type(arr)) # type() gives type of object passed"
   ]
  },
  {
   "cell_type": "code",
   "execution_count": 9,
   "id": "25953716-cf2e-43e8-af12-fd069a881e5f",
   "metadata": {},
   "outputs": [],
   "source": [
    "# To create an ndarray, we can pass a list, tuple or any array-like object into the array() method, and it will be converted into an ndarray:"
   ]
  },
  {
   "cell_type": "code",
   "execution_count": 10,
   "id": "c99c11e4-478e-40f8-88cb-c69e7876720e",
   "metadata": {},
   "outputs": [],
   "source": [
    "arr = np.array((1, 2, 3, 4, 5)) # Tuple to create NumPy array"
   ]
  },
  {
   "cell_type": "code",
   "execution_count": 11,
   "id": "ab21fa8e-ee5f-43db-9443-bf60b22f7bc6",
   "metadata": {},
   "outputs": [
    {
     "name": "stdout",
     "output_type": "stream",
     "text": [
      "[1 2 3 4 5]\n"
     ]
    }
   ],
   "source": [
    "print(arr)"
   ]
  },
  {
   "cell_type": "code",
   "execution_count": 12,
   "id": "bd405002-972a-41bf-9610-b0b4e409bc97",
   "metadata": {},
   "outputs": [],
   "source": [
    "# Dimensions in Arrays"
   ]
  },
  {
   "cell_type": "code",
   "execution_count": 13,
   "id": "30ab04fc-78aa-4491-b9d8-cff6afd79668",
   "metadata": {},
   "outputs": [],
   "source": [
    "arr = np.array(30) # O-D array with value 30"
   ]
  },
  {
   "cell_type": "code",
   "execution_count": 14,
   "id": "260d1586-dcfd-4d9e-8379-138b83a49886",
   "metadata": {},
   "outputs": [
    {
     "name": "stdout",
     "output_type": "stream",
     "text": [
      "30\n"
     ]
    }
   ],
   "source": [
    "print(arr)"
   ]
  },
  {
   "cell_type": "code",
   "execution_count": 15,
   "id": "4ebe1bcc-250e-42b9-9947-6647b7d957be",
   "metadata": {},
   "outputs": [],
   "source": [
    "arr = np.array([1, 2, 3, 4]) # 1-D array"
   ]
  },
  {
   "cell_type": "code",
   "execution_count": 16,
   "id": "5d0e534b-b9d0-44ef-a7ee-7c91d6be19fb",
   "metadata": {},
   "outputs": [
    {
     "name": "stdout",
     "output_type": "stream",
     "text": [
      "[1 2 3 4]\n"
     ]
    }
   ],
   "source": [
    "print(arr)"
   ]
  },
  {
   "cell_type": "code",
   "execution_count": 18,
   "id": "2964058c-276d-4f49-96a1-554fdf0fd236",
   "metadata": {},
   "outputs": [],
   "source": [
    "arr = np.array([[1, 2, 3],[4, 5, 6]]) # 2-D array or matrix or 2nd order tensors."
   ]
  },
  {
   "cell_type": "code",
   "execution_count": 20,
   "id": "141d9169-a581-4709-a97f-fe39bb4cd811",
   "metadata": {},
   "outputs": [
    {
     "name": "stdout",
     "output_type": "stream",
     "text": [
      "[[1 2 3]\n",
      " [4 5 6]]\n"
     ]
    }
   ],
   "source": [
    "print(arr)"
   ]
  },
  {
   "cell_type": "code",
   "execution_count": 21,
   "id": "4512c129-e2d6-4197-bda7-df777280966a",
   "metadata": {},
   "outputs": [],
   "source": [
    "arr = np.array([[[1,2,3],[4,5,6]], [[1,2,3],[4,5,6]]]) # Create a 3-D array with two 2-D arrays, both containing two arrays with the values 1,2,3 and 4,5,6:"
   ]
  },
  {
   "cell_type": "code",
   "execution_count": 22,
   "id": "e5904c46-15b0-469c-b41d-997a18ddba48",
   "metadata": {},
   "outputs": [
    {
     "name": "stdout",
     "output_type": "stream",
     "text": [
      "[[[1 2 3]\n",
      "  [4 5 6]]\n",
      "\n",
      " [[1 2 3]\n",
      "  [4 5 6]]]\n"
     ]
    }
   ],
   "source": [
    "print(arr)"
   ]
  },
  {
   "cell_type": "code",
   "execution_count": 23,
   "id": "ca39f9ce-a405-4d0b-a2c4-2618481dea5a",
   "metadata": {},
   "outputs": [],
   "source": [
    "# Check number of dimensions: ndim"
   ]
  },
  {
   "cell_type": "code",
   "execution_count": 25,
   "id": "a56a2b0d-d975-49df-b873-c298979712b7",
   "metadata": {},
   "outputs": [],
   "source": [
    "a = np.array(30)\n",
    "b = np.array([1,2,3,4])\n",
    "c = np.array([[1,2,3],[4,5,6]])\n",
    "d = np.array([[[1,2,3],[4,5,6]],[[1,2,3],[4,5,6]]])"
   ]
  },
  {
   "cell_type": "code",
   "execution_count": 26,
   "id": "19a3a790-2e3f-40cc-b77e-cdee5bd69b33",
   "metadata": {},
   "outputs": [
    {
     "name": "stdout",
     "output_type": "stream",
     "text": [
      "0\n",
      "1\n",
      "2\n",
      "3\n"
     ]
    }
   ],
   "source": [
    "print(a.ndim)\n",
    "print(b.ndim)\n",
    "print(c.ndim)\n",
    "print(d.ndim)"
   ]
  },
  {
   "cell_type": "code",
   "execution_count": 28,
   "id": "505a029a-f186-4fcc-8810-30b4fbb2b616",
   "metadata": {},
   "outputs": [
    {
     "name": "stdout",
     "output_type": "stream",
     "text": [
      "[[[[[1 2 3]]]]]\n",
      "Number of Dimensions: 5\n"
     ]
    }
   ],
   "source": [
    "# Higher dimensional array: ndmin\n",
    "arr = np.array([1,2,3], ndmin=5) # Create an array with 5 dimensions and verify that it has 5 dimensions:\n",
    "print(arr)\n",
    "print('Number of Dimensions:' , arr.ndim)"
   ]
  },
  {
   "cell_type": "code",
   "execution_count": null,
   "id": "021119ea-f2b1-4c37-b3d6-12306a44ae44",
   "metadata": {},
   "outputs": [],
   "source": []
  },
  {
   "cell_type": "code",
   "execution_count": null,
   "id": "61717d5d-b827-4999-b5dc-151160ff6bd3",
   "metadata": {},
   "outputs": [],
   "source": []
  }
 ],
 "metadata": {
  "kernelspec": {
   "display_name": "Python 3 (ipykernel)",
   "language": "python",
   "name": "python3"
  },
  "language_info": {
   "codemirror_mode": {
    "name": "ipython",
    "version": 3
   },
   "file_extension": ".py",
   "mimetype": "text/x-python",
   "name": "python",
   "nbconvert_exporter": "python",
   "pygments_lexer": "ipython3",
   "version": "3.11.5"
  }
 },
 "nbformat": 4,
 "nbformat_minor": 5
}
