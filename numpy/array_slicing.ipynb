{
 "cells": [
  {
   "cell_type": "code",
   "execution_count": 1,
   "id": "69e5bfd8-d2d6-4df0-8c12-b5bf38c68e37",
   "metadata": {},
   "outputs": [],
   "source": [
    "# Slicing Arrays"
   ]
  },
  {
   "cell_type": "code",
   "execution_count": 2,
   "id": "c0ffaedd-a071-49ec-863f-dfe3233c6d71",
   "metadata": {},
   "outputs": [],
   "source": [
    "import numpy as np"
   ]
  },
  {
   "cell_type": "code",
   "execution_count": 3,
   "id": "63874c55-26d1-4fbc-953a-3c3a8ec51c8f",
   "metadata": {},
   "outputs": [
    {
     "name": "stdout",
     "output_type": "stream",
     "text": [
      "[2 3 4 5]\n"
     ]
    }
   ],
   "source": [
    "arr = np.array([1,2,3,4,5,6,7,8]) # Slice elements from index 1 to index 5 from the following array:\n",
    "print(arr[1:5])"
   ]
  },
  {
   "cell_type": "code",
   "execution_count": 4,
   "id": "e008ae19-6886-4f81-b150-e7df00712452",
   "metadata": {},
   "outputs": [
    {
     "data": {
      "text/plain": [
       "\"\\nWe pass slice instead of index like this: [start:end]\\nWe can also define the step, like this: [start:end:step]\\nIf we don't pass start its considered 0\\nIf we don't pass end its considered length of array in that dimension\\nIf we don't pass step its considered 1\\n\""
      ]
     },
     "execution_count": 4,
     "metadata": {},
     "output_type": "execute_result"
    }
   ],
   "source": [
    "\"\"\"\n",
    "We pass slice instead of index like this: [start:end]\n",
    "We can also define the step, like this: [start:end:step]\n",
    "If we don't pass start its considered 0\n",
    "If we don't pass end its considered length of array in that dimension\n",
    "If we don't pass step its considered 1\n",
    "\"\"\""
   ]
  },
  {
   "cell_type": "code",
   "execution_count": 5,
   "id": "00d8b3d7-ecda-4974-ae8f-be765b0d0ccd",
   "metadata": {},
   "outputs": [
    {
     "name": "stdout",
     "output_type": "stream",
     "text": [
      "[5 6 7]\n"
     ]
    }
   ],
   "source": [
    "arr = np.array([1, 2, 3, 4, 5, 6, 7]) # Slice elements from index 4 to the end of the array:\n",
    "print(arr[4:])"
   ]
  },
  {
   "cell_type": "code",
   "execution_count": 6,
   "id": "ee27edea-1625-4d63-bf1b-4752edc0dbdc",
   "metadata": {},
   "outputs": [
    {
     "name": "stdout",
     "output_type": "stream",
     "text": [
      "[1 2 3 4]\n"
     ]
    }
   ],
   "source": [
    "arr = np.array([1, 2, 3, 4, 5, 6, 7]) # Slice elements from the beginning to index 4 (not included):\n",
    "print(arr[:4])"
   ]
  },
  {
   "cell_type": "code",
   "execution_count": 7,
   "id": "23b6cace-fd25-4984-90f7-abd014d869e8",
   "metadata": {},
   "outputs": [],
   "source": [
    "# Negative Slicing"
   ]
  },
  {
   "cell_type": "code",
   "execution_count": 8,
   "id": "9dc9f8b3-6749-4187-bdc7-a3177da91fe0",
   "metadata": {},
   "outputs": [
    {
     "name": "stdout",
     "output_type": "stream",
     "text": [
      "[4 5 6]\n"
     ]
    }
   ],
   "source": [
    "arr = np.array([1, 2, 3, 4, 5, 6, 7])\n",
    "print(arr[-4:-1])"
   ]
  },
  {
   "cell_type": "code",
   "execution_count": 10,
   "id": "a05e3f7e-091d-4d54-a7c5-c089fe546579",
   "metadata": {},
   "outputs": [],
   "source": [
    "# STEP"
   ]
  },
  {
   "cell_type": "code",
   "execution_count": 11,
   "id": "669ac7b9-fe7a-4555-901b-4761a4bcf0de",
   "metadata": {},
   "outputs": [
    {
     "name": "stdout",
     "output_type": "stream",
     "text": [
      "[1 4 7]\n"
     ]
    }
   ],
   "source": [
    "arr = np.array([1, 2, 3, 4, 5, 6, 7,8])\n",
    "print(arr[0:7:3])"
   ]
  },
  {
   "cell_type": "code",
   "execution_count": 13,
   "id": "e7186476-5d7f-46f9-a0d6-e16dd2fffb82",
   "metadata": {},
   "outputs": [
    {
     "name": "stdout",
     "output_type": "stream",
     "text": [
      "[2 5 8]\n"
     ]
    }
   ],
   "source": [
    "print(arr[1:8:3])"
   ]
  },
  {
   "cell_type": "code",
   "execution_count": 14,
   "id": "8a8eccb0-cfd7-4d38-941d-04aaae10ff83",
   "metadata": {},
   "outputs": [
    {
     "name": "stdout",
     "output_type": "stream",
     "text": [
      "[1 3 5 7]\n"
     ]
    }
   ],
   "source": [
    "print(arr[::2]) # Return every other element from the entire array"
   ]
  },
  {
   "cell_type": "code",
   "execution_count": 15,
   "id": "1343862e-e41c-461e-9419-881c857150eb",
   "metadata": {},
   "outputs": [],
   "source": [
    "# Slicing 2-D Arrays"
   ]
  },
  {
   "cell_type": "code",
   "execution_count": 17,
   "id": "8a92ef42-05da-481a-9b0f-286247dc8232",
   "metadata": {},
   "outputs": [
    {
     "name": "stdout",
     "output_type": "stream",
     "text": [
      "[7 8 9]\n"
     ]
    }
   ],
   "source": [
    "arr = np.array([[1, 2, 3, 4, 5], [6, 7, 8, 9, 10]])\n",
    "print(arr[1, 1:4]) # Remember that second element has index 1"
   ]
  },
  {
   "cell_type": "code",
   "execution_count": 18,
   "id": "cf1d728b-5329-40aa-9fa8-e1893a099020",
   "metadata": {},
   "outputs": [
    {
     "name": "stdout",
     "output_type": "stream",
     "text": [
      "[3 4 5]\n"
     ]
    }
   ],
   "source": [
    "print(arr[0, 2:5]) # Remember that first element has index 0"
   ]
  },
  {
   "cell_type": "code",
   "execution_count": 19,
   "id": "565e4b9a-c67a-41ff-9ab4-8c4fd67b5167",
   "metadata": {},
   "outputs": [
    {
     "name": "stdout",
     "output_type": "stream",
     "text": [
      "[3 8]\n"
     ]
    }
   ],
   "source": [
    "print(arr[0:2, 2]) # From both elements, return index 2"
   ]
  },
  {
   "cell_type": "code",
   "execution_count": 22,
   "id": "aed997ca-d333-433b-bbda-76bffddfe144",
   "metadata": {},
   "outputs": [
    {
     "name": "stdout",
     "output_type": "stream",
     "text": [
      "[4 9]\n"
     ]
    }
   ],
   "source": [
    "print(arr[0:2, 3]) # From both elements, return index 3"
   ]
  },
  {
   "cell_type": "code",
   "execution_count": 23,
   "id": "b7debd70-fa89-436d-b04b-51206708ffc2",
   "metadata": {},
   "outputs": [
    {
     "name": "stdout",
     "output_type": "stream",
     "text": [
      "[[2 3 4]\n",
      " [7 8 9]]\n"
     ]
    }
   ],
   "source": [
    "print(arr[0:2, 1:4]) # This will return a 2-D array"
   ]
  }
 ],
 "metadata": {
  "kernelspec": {
   "display_name": "Python 3 (ipykernel)",
   "language": "python",
   "name": "python3"
  },
  "language_info": {
   "codemirror_mode": {
    "name": "ipython",
    "version": 3
   },
   "file_extension": ".py",
   "mimetype": "text/x-python",
   "name": "python",
   "nbconvert_exporter": "python",
   "pygments_lexer": "ipython3",
   "version": "3.11.5"
  }
 },
 "nbformat": 4,
 "nbformat_minor": 5
}
