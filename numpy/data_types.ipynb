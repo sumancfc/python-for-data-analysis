{
 "cells": [
  {
   "cell_type": "code",
   "execution_count": 1,
   "id": "79c68d63-5657-47bf-ba4e-3bb116e7aaae",
   "metadata": {},
   "outputs": [],
   "source": [
    "# Data Types in Python\n",
    "# By default python has strings, integer, float, boolean and complex data types"
   ]
  },
  {
   "cell_type": "code",
   "execution_count": 2,
   "id": "826b5333-5d55-4d6f-97bc-33a7dc645dcb",
   "metadata": {},
   "outputs": [],
   "source": [
    "# Data Types in NumPy\n",
    "# i - integer, b - boolean, u - unsigned integer, f - float, c - complex float, m - timedelta\n",
    "# M - datetime, O - object, S - String, U - unicode string, V - fixed chunk of memory for other type ( void )"
   ]
  },
  {
   "cell_type": "code",
   "execution_count": 3,
   "id": "deecb6e8-cedd-47cd-8cd1-2f07d410fc54",
   "metadata": {},
   "outputs": [],
   "source": [
    "# Checking data types of array: dtype => return data type of an array"
   ]
  },
  {
   "cell_type": "code",
   "execution_count": 4,
   "id": "c71dda21-0b03-400e-acd8-0354944ba923",
   "metadata": {},
   "outputs": [],
   "source": [
    "import numpy as np"
   ]
  },
  {
   "cell_type": "code",
   "execution_count": 5,
   "id": "048503de-a79b-4fc1-9019-725c91086ebe",
   "metadata": {},
   "outputs": [
    {
     "name": "stdout",
     "output_type": "stream",
     "text": [
      "int32\n"
     ]
    }
   ],
   "source": [
    "arr = np.array([1,2,3,4,5]) # data type of an array object\n",
    "print(arr.dtype)"
   ]
  },
  {
   "cell_type": "code",
   "execution_count": 8,
   "id": "923a6821-9f34-4896-bcc7-6e53241740cc",
   "metadata": {},
   "outputs": [
    {
     "name": "stdout",
     "output_type": "stream",
     "text": [
      "<U6\n"
     ]
    }
   ],
   "source": [
    "arr = np.array(['apple', 'banana', 'cherry']) # data type of an array containing strings\n",
    "print(arr.dtype)"
   ]
  },
  {
   "cell_type": "code",
   "execution_count": 12,
   "id": "904215ff-f48a-42ef-8174-41f4197d33b7",
   "metadata": {},
   "outputs": [
    {
     "name": "stdout",
     "output_type": "stream",
     "text": [
      "[b'1' b'2' b'3']\n",
      "|S1\n"
     ]
    }
   ],
   "source": [
    "# Creating Arrays With a Defined Data Type\n",
    "arr = np.array([1,2,3], dtype='S') # Create an array with data type string\n",
    "print(arr)\n",
    "print(arr.dtype)"
   ]
  },
  {
   "cell_type": "code",
   "execution_count": 13,
   "id": "869b0c41-6cfe-4f9b-8e83-24eaf9bf3f66",
   "metadata": {},
   "outputs": [
    {
     "name": "stdout",
     "output_type": "stream",
     "text": [
      "[1 2 3]\n",
      "object\n"
     ]
    }
   ],
   "source": [
    "arr = np.array([1,2,3], dtype='O') # Create an array with data type object\n",
    "print(arr)\n",
    "print(arr.dtype)"
   ]
  },
  {
   "cell_type": "code",
   "execution_count": 14,
   "id": "48c75421-caae-4a9e-a33d-3628707cb076",
   "metadata": {},
   "outputs": [],
   "source": [
    "# For i, u, f, S and U we can define size as well."
   ]
  },
  {
   "cell_type": "code",
   "execution_count": 15,
   "id": "e5433497-6fce-4531-9ffd-3dfaa7492d9a",
   "metadata": {},
   "outputs": [
    {
     "name": "stdout",
     "output_type": "stream",
     "text": [
      "[1 2 3 4]\n",
      "int32\n"
     ]
    }
   ],
   "source": [
    "arr = np.array([1, 2, 3, 4], dtype='i4')\n",
    "print(arr)\n",
    "print(arr.dtype)"
   ]
  },
  {
   "cell_type": "code",
   "execution_count": 20,
   "id": "77b55491-bd60-473d-819b-10eec601e546",
   "metadata": {},
   "outputs": [
    {
     "name": "stdout",
     "output_type": "stream",
     "text": [
      "[1. 2. 3. 4.]\n",
      "float32\n"
     ]
    }
   ],
   "source": [
    "arr = np.array([1, 2, 3, 4], dtype='f4')\n",
    "print(arr)\n",
    "print(arr.dtype)"
   ]
  },
  {
   "cell_type": "code",
   "execution_count": 21,
   "id": "f4557cf4-e6ea-474b-99a5-d6eaffdf01b5",
   "metadata": {},
   "outputs": [
    {
     "ename": "ValueError",
     "evalue": "invalid literal for int() with base 10: 'a'",
     "output_type": "error",
     "traceback": [
      "\u001b[1;31m---------------------------------------------------------------------------\u001b[0m",
      "\u001b[1;31mValueError\u001b[0m                                Traceback (most recent call last)",
      "Cell \u001b[1;32mIn[21], line 2\u001b[0m\n\u001b[0;32m      1\u001b[0m \u001b[38;5;66;03m# What if a Value Can Not Be Converted?\u001b[39;00m\n\u001b[1;32m----> 2\u001b[0m arr \u001b[38;5;241m=\u001b[39m \u001b[43mnp\u001b[49m\u001b[38;5;241;43m.\u001b[39;49m\u001b[43marray\u001b[49m\u001b[43m(\u001b[49m\u001b[43m[\u001b[49m\u001b[38;5;124;43m'\u001b[39;49m\u001b[38;5;124;43ma\u001b[39;49m\u001b[38;5;124;43m'\u001b[39;49m\u001b[43m,\u001b[49m\u001b[43m \u001b[49m\u001b[38;5;124;43m'\u001b[39;49m\u001b[38;5;124;43m2\u001b[39;49m\u001b[38;5;124;43m'\u001b[39;49m\u001b[43m,\u001b[49m\u001b[43m \u001b[49m\u001b[38;5;124;43m'\u001b[39;49m\u001b[38;5;124;43m3\u001b[39;49m\u001b[38;5;124;43m'\u001b[39;49m\u001b[43m]\u001b[49m\u001b[43m,\u001b[49m\u001b[43m \u001b[49m\u001b[43mdtype\u001b[49m\u001b[38;5;241;43m=\u001b[39;49m\u001b[38;5;124;43m'\u001b[39;49m\u001b[38;5;124;43mi\u001b[39;49m\u001b[38;5;124;43m'\u001b[39;49m\u001b[43m)\u001b[49m\n",
      "\u001b[1;31mValueError\u001b[0m: invalid literal for int() with base 10: 'a'"
     ]
    }
   ],
   "source": [
    "# What if a Value Can Not Be Converted?\n",
    "arr = np.array(['a', '2', '3'], dtype='i')"
   ]
  },
  {
   "cell_type": "code",
   "execution_count": 22,
   "id": "ae8611d2-0a87-43e8-8295-d6c4a7202490",
   "metadata": {},
   "outputs": [],
   "source": [
    "# Converting Data Type on Existing Arrays: astype()"
   ]
  },
  {
   "cell_type": "code",
   "execution_count": 23,
   "id": "4c3e73d4-98ce-4a58-8b26-075a8630a17f",
   "metadata": {},
   "outputs": [
    {
     "name": "stdout",
     "output_type": "stream",
     "text": [
      "[1.1 2.1 3.1]\n",
      "float64\n",
      "[1 2 3]\n",
      "int32\n"
     ]
    }
   ],
   "source": [
    "arr = np.array([1.1, 2.1, 3.1]) # change data type float to int\n",
    "print(arr)\n",
    "print(arr.dtype)\n",
    "newArr = arr.astype(\"i\")\n",
    "print(newArr)\n",
    "print(newArr.dtype)"
   ]
  },
  {
   "cell_type": "code",
   "execution_count": 24,
   "id": "c6d390bf-6820-4ed6-b8f0-2de0b7ebeeb1",
   "metadata": {},
   "outputs": [
    {
     "name": "stdout",
     "output_type": "stream",
     "text": [
      "[1 2 3]\n",
      "int32\n"
     ]
    }
   ],
   "source": [
    "arr = np.array([1.1, 2.1, 3.1]) \n",
    "newArr = arr.astype(int) # Change data type from float to integer by using int as parameter value\n",
    "print(newArr)\n",
    "print(newArr.dtype)"
   ]
  },
  {
   "cell_type": "code",
   "execution_count": 25,
   "id": "4be2446c-8ab1-4508-8d55-7c7ee4243b44",
   "metadata": {},
   "outputs": [
    {
     "name": "stdout",
     "output_type": "stream",
     "text": [
      "[ True  True False]\n",
      "bool\n"
     ]
    }
   ],
   "source": [
    "arr = np.array([1, 1, 0]) \n",
    "newArr = arr.astype(bool) # Change data type from int to boolean by using bool as parameter value\n",
    "print(newArr)\n",
    "print(newArr.dtype)"
   ]
  }
 ],
 "metadata": {
  "kernelspec": {
   "display_name": "Python 3 (ipykernel)",
   "language": "python",
   "name": "python3"
  },
  "language_info": {
   "codemirror_mode": {
    "name": "ipython",
    "version": 3
   },
   "file_extension": ".py",
   "mimetype": "text/x-python",
   "name": "python",
   "nbconvert_exporter": "python",
   "pygments_lexer": "ipython3",
   "version": "3.11.5"
  }
 },
 "nbformat": 4,
 "nbformat_minor": 5
}
