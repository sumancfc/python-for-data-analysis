{
 "cells": [
  {
   "cell_type": "code",
   "execution_count": 1,
   "id": "b430b1e1-70d2-48dd-9425-72397226e492",
   "metadata": {},
   "outputs": [],
   "source": [
    "# Access Array Elements"
   ]
  },
  {
   "cell_type": "code",
   "execution_count": 2,
   "id": "24312cf3-2269-48a3-9ceb-6c08231016a3",
   "metadata": {},
   "outputs": [],
   "source": [
    "import numpy as np"
   ]
  },
  {
   "cell_type": "code",
   "execution_count": 3,
   "id": "0880c1c3-29c7-42c3-b322-f1a2e7b5eeaf",
   "metadata": {},
   "outputs": [
    {
     "name": "stdout",
     "output_type": "stream",
     "text": [
      "1\n"
     ]
    }
   ],
   "source": [
    "arr = np.array([1,2,3,4]) #Get the first element from the following array:\n",
    "print(arr[0])"
   ]
  },
  {
   "cell_type": "code",
   "execution_count": 4,
   "id": "14b09a90-8295-4adc-971c-0e56d83980b4",
   "metadata": {},
   "outputs": [
    {
     "name": "stdout",
     "output_type": "stream",
     "text": [
      "2\n"
     ]
    }
   ],
   "source": [
    "print(arr[1]) # Get the second element from the following array."
   ]
  },
  {
   "cell_type": "code",
   "execution_count": 5,
   "id": "e09453b7-ae5a-46c1-bbb1-09585ae452d9",
   "metadata": {},
   "outputs": [
    {
     "name": "stdout",
     "output_type": "stream",
     "text": [
      "7\n"
     ]
    }
   ],
   "source": [
    "print(arr[2] + arr[3]) # Get third and fourth elements from the following array and add them."
   ]
  },
  {
   "cell_type": "code",
   "execution_count": 6,
   "id": "69589b7f-07d6-45d2-b954-b178e5896577",
   "metadata": {},
   "outputs": [],
   "source": [
    "# Access 2-D Arrays"
   ]
  },
  {
   "cell_type": "code",
   "execution_count": 7,
   "id": "b00cfd29-070e-4e4a-8044-62e646a4a381",
   "metadata": {},
   "outputs": [
    {
     "name": "stdout",
     "output_type": "stream",
     "text": [
      "3rd element of first row:  3\n",
      "4th element of second row:  9\n"
     ]
    }
   ],
   "source": [
    "arr = np.array([[1,2,3,4,5],[6,7,8,9,10]])\n",
    "print('3rd element of first row: ', arr[0,2])\n",
    "print('4th element of second row: ', arr[1,3])"
   ]
  },
  {
   "cell_type": "code",
   "execution_count": 8,
   "id": "ae12df43-a654-4138-b0db-feb4aac276af",
   "metadata": {},
   "outputs": [],
   "source": [
    "# Access 3-D Arrays"
   ]
  },
  {
   "cell_type": "code",
   "execution_count": 9,
   "id": "37f26e49-5520-40f7-86e7-04b6cfc91a70",
   "metadata": {},
   "outputs": [],
   "source": [
    "arr = np.array([[[1, 2, 3], [4, 5, 6]], [[7, 8, 9], [10, 11, 12]]])"
   ]
  },
  {
   "cell_type": "code",
   "execution_count": 11,
   "id": "3e1f60d3-9759-40bd-be92-7994b1da84db",
   "metadata": {},
   "outputs": [
    {
     "name": "stdout",
     "output_type": "stream",
     "text": [
      "6\n"
     ]
    }
   ],
   "source": [
    "print(arr[0, 1, 2])  # Access the third element of the second array of the first array:"
   ]
  },
  {
   "cell_type": "code",
   "execution_count": 12,
   "id": "b2f0baba-1df5-40df-95d8-5142e1eae3e4",
   "metadata": {},
   "outputs": [
    {
     "name": "stdout",
     "output_type": "stream",
     "text": [
      "9\n"
     ]
    }
   ],
   "source": [
    "print(arr[1,0,2])  # Access the third element of the first array of the second array:"
   ]
  },
  {
   "cell_type": "code",
   "execution_count": 13,
   "id": "16897eb7-8720-45da-a2fd-604a08c17ec5",
   "metadata": {},
   "outputs": [],
   "source": [
    "# Negative Indexing"
   ]
  },
  {
   "cell_type": "code",
   "execution_count": 14,
   "id": "afd2a8e0-b3dc-40b8-935e-d8afc360f311",
   "metadata": {},
   "outputs": [
    {
     "name": "stdout",
     "output_type": "stream",
     "text": [
      "Second Last from 2nd dim:  9\n"
     ]
    }
   ],
   "source": [
    "arr = np.array([[1,2,3,4,5], [6,7,8,9,10]])\n",
    "print('Second Last from 2nd dim: ', arr[1, -2])"
   ]
  }
 ],
 "metadata": {
  "kernelspec": {
   "display_name": "Python 3 (ipykernel)",
   "language": "python",
   "name": "python3"
  },
  "language_info": {
   "codemirror_mode": {
    "name": "ipython",
    "version": 3
   },
   "file_extension": ".py",
   "mimetype": "text/x-python",
   "name": "python",
   "nbconvert_exporter": "python",
   "pygments_lexer": "ipython3",
   "version": "3.11.5"
  }
 },
 "nbformat": 4,
 "nbformat_minor": 5
}
